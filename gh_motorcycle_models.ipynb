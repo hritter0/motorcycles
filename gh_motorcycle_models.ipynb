{
 "cells": [
  {
   "cell_type": "code",
   "execution_count": 41,
   "metadata": {
    "collapsed": false
   },
   "outputs": [],
   "source": [
    "import pandas as pd\n",
    "import numpy as np\n",
    "%matplotlib inline\n",
    "import matplotlib.pyplot as plt\n",
    "import seaborn as sns\n",
    "from sklearn import metrics\n",
    "from sklearn.ensemble import RandomForestRegressor, RandomForestClassifier\n",
    "from sklearn.cross_validation import train_test_split"
   ]
  },
  {
   "cell_type": "markdown",
   "metadata": {},
   "source": [
    "Note 1: This notebook is best read with the accompanying explanatory blog post writeup, available at https://www.halleritter.me/blog/2018/7/28/california-motorcycle-accident-statistics-dont-ride-at-night . I have tried to include comments where necessary to understand why I'm doing things, but they're not as good as the full writeup! "
   ]
  },
  {
   "cell_type": "markdown",
   "metadata": {},
   "source": [
    "Note 2: This notebook picks up where the data cleaning left off, and includes mostly the modeling portion of the analysis. If you haven't read motorcycle_explore, you may have to pick up some of the feature names as we go (many of which are coded: a guide to these feature codes can be found at https://tims.berkeley.edu/help/SWITRS.php). My philosophy for this notebook is to include all steps that gave me meaningful information about the analysis, even if they're just e.g. calling .isnull().sum()."
   ]
  },
  {
   "cell_type": "code",
   "execution_count": 45,
   "metadata": {
    "collapsed": true
   },
   "outputs": [],
   "source": [
    "df = pd.read_pickle('c_driv_d.pkl')"
   ]
  },
  {
   "cell_type": "code",
   "execution_count": 50,
   "metadata": {
    "collapsed": false
   },
   "outputs": [
    {
     "data": {
      "text/plain": [
       "CASE_ID_x                   0\n",
       "PARTY_NUMBER                0\n",
       "AT_FAULT                    0\n",
       "PARTY_AGE                   0\n",
       "ACCIDENT_YEAR               0\n",
       "COLLISION_DATE              0\n",
       "COLLISION_TIME              0\n",
       "DAY_OF_WEEK                 0\n",
       "NUMBER_KILLED              50\n",
       "NUMBER_INJURED             52\n",
       "PARTY_COUNT                 0\n",
       "PEDESTRIAN_ACCIDENT    199349\n",
       "BICYCLE_ACCIDENT       199830\n",
       "MOTORCYCLE_ACCIDENT         0\n",
       "TRUCK_ACCIDENT         197652\n",
       "COUNT_MC_KILLED             0\n",
       "COUNT_MC_INJURED            0\n",
       "PARTY_SEX_-                 0\n",
       "PARTY_SEX_F                 0\n",
       "PARTY_SEX_M                 0\n",
       "dtype: int64"
      ]
     },
     "execution_count": 50,
     "metadata": {},
     "output_type": "execute_result"
    }
   ],
   "source": [
    "df.isnull().sum()[0:20] #how many nulls are there in columns I care about? Only 50-52. Safe to replace with zero."
   ]
  },
  {
   "cell_type": "code",
   "execution_count": 5,
   "metadata": {
    "collapsed": true
   },
   "outputs": [],
   "source": [
    "df.fillna(0, inplace=True)"
   ]
  },
  {
   "cell_type": "markdown",
   "metadata": {},
   "source": [
    "### Fatalities- Initial Random Forest Model"
   ]
  },
  {
   "cell_type": "code",
   "execution_count": 6,
   "metadata": {
    "collapsed": true
   },
   "outputs": [],
   "source": [
    "Xk,yk = df.drop(['COUNT_MC_KILLED', 'COUNT_MC_INJURED', 'NUMBER_INJURED', 'CASE_ID_x', 'NUMBER_KILLED'], axis=1),df['NUMBER_KILLED']"
   ]
  },
  {
   "cell_type": "code",
   "execution_count": 7,
   "metadata": {
    "collapsed": true
   },
   "outputs": [],
   "source": [
    "Xk_train, Xk_test, yk_train, yk_test = train_test_split(Xk, yk, test_size=0.3)"
   ]
  },
  {
   "cell_type": "code",
   "execution_count": 8,
   "metadata": {
    "collapsed": true
   },
   "outputs": [],
   "source": [
    "rf1k = RandomForestClassifier()"
   ]
  },
  {
   "cell_type": "code",
   "execution_count": 9,
   "metadata": {
    "collapsed": false
   },
   "outputs": [
    {
     "data": {
      "text/plain": [
       "RandomForestClassifier(bootstrap=True, class_weight=None, criterion='gini',\n",
       "            max_depth=None, max_features='auto', max_leaf_nodes=None,\n",
       "            min_impurity_split=1e-07, min_samples_leaf=1,\n",
       "            min_samples_split=2, min_weight_fraction_leaf=0.0,\n",
       "            n_estimators=10, n_jobs=1, oob_score=False, random_state=None,\n",
       "            verbose=0, warm_start=False)"
      ]
     },
     "execution_count": 9,
     "metadata": {},
     "output_type": "execute_result"
    }
   ],
   "source": [
    "rf1k.fit(Xk_train,yk_train)"
   ]
  },
  {
   "cell_type": "code",
   "execution_count": 42,
   "metadata": {
    "collapsed": false
   },
   "outputs": [
    {
     "data": {
      "text/plain": [
       "0.99442322329157862"
      ]
     },
     "execution_count": 42,
     "metadata": {},
     "output_type": "execute_result"
    }
   ],
   "source": [
    "nocrossvalscore= rf1k.score(Xk_train,yk_train)\n",
    "nocrossvalscore #just to check that it's at least training properly"
   ]
  },
  {
   "cell_type": "code",
   "execution_count": 15,
   "metadata": {
    "collapsed": false
   },
   "outputs": [
    {
     "data": {
      "text/plain": [
       "0.9710207468879668"
      ]
     },
     "execution_count": 15,
     "metadata": {},
     "output_type": "execute_result"
    }
   ],
   "source": [
    "holdoutscore = rf1k.score(Xk_test, yk_test)\n",
    "holdoutscore"
   ]
  },
  {
   "cell_type": "code",
   "execution_count": 16,
   "metadata": {
    "collapsed": false
   },
   "outputs": [
    {
     "data": {
      "text/plain": [
       "0.0    59721\n",
       "1.0      528\n",
       "2.0        1\n",
       "Name: 0, dtype: int64"
      ]
     },
     "execution_count": 16,
     "metadata": {},
     "output_type": "execute_result"
    }
   ],
   "source": [
    "df_k_predict = pd.DataFrame(rf1k.predict(Xk_test))\n",
    "df_k_predict[0].value_counts() #It's predicting some fatalities, which is good. The concern here is bad class imbalance."
   ]
  },
  {
   "cell_type": "code",
   "execution_count": 10,
   "metadata": {
    "collapsed": false
   },
   "outputs": [
    {
     "data": {
      "text/plain": [
       "[('COLLISION_DATE', 0.14474396482515739),\n",
       " ('COLLISION_TIME', 0.14183896126630241),\n",
       " ('PARTY_AGE', 0.12038682623178483),\n",
       " ('ACCIDENT_YEAR', 0.065958662974851395),\n",
       " ('PARTY_DRUG_PHYSICAL_E', 0.064231449903224755),\n",
       " ('DAY_OF_WEEK', 0.059172324892032377),\n",
       " ('PARTY_DRUG_PHYSICAL_-', 0.037162020856763477),\n",
       " ('PARTY_COUNT', 0.028358284285293404),\n",
       " ('PARTY_NUMBER', 0.015563078546521844),\n",
       " ('ALCOHOL_INVOLVED_Y', 0.015290742349086062)]"
      ]
     },
     "execution_count": 10,
     "metadata": {},
     "output_type": "execute_result"
    }
   ],
   "source": [
    "k_1_feat = sorted(zip(Xk.columns,abs(rf1k.feature_importances_)), key=lambda x: -x[1])\n",
    "k_1_feat[0:10]"
   ]
  },
  {
   "cell_type": "code",
   "execution_count": 11,
   "metadata": {
    "collapsed": false
   },
   "outputs": [
    {
     "data": {
      "text/html": [
       "<div>\n",
       "<table border=\"1\" class=\"dataframe\">\n",
       "  <thead>\n",
       "    <tr style=\"text-align: right;\">\n",
       "      <th></th>\n",
       "      <th>FEATURE</th>\n",
       "      <th>VALUE</th>\n",
       "    </tr>\n",
       "  </thead>\n",
       "  <tbody>\n",
       "    <tr>\n",
       "      <th>0</th>\n",
       "      <td>COLLISION_DATE</td>\n",
       "      <td>0.145</td>\n",
       "    </tr>\n",
       "    <tr>\n",
       "      <th>1</th>\n",
       "      <td>COLLISION_TIME</td>\n",
       "      <td>0.142</td>\n",
       "    </tr>\n",
       "    <tr>\n",
       "      <th>2</th>\n",
       "      <td>PARTY_AGE</td>\n",
       "      <td>0.120</td>\n",
       "    </tr>\n",
       "    <tr>\n",
       "      <th>3</th>\n",
       "      <td>ACCIDENT_YEAR</td>\n",
       "      <td>0.066</td>\n",
       "    </tr>\n",
       "    <tr>\n",
       "      <th>4</th>\n",
       "      <td>PARTY_DRUG_PHYSICAL_E</td>\n",
       "      <td>0.064</td>\n",
       "    </tr>\n",
       "    <tr>\n",
       "      <th>5</th>\n",
       "      <td>DAY_OF_WEEK</td>\n",
       "      <td>0.059</td>\n",
       "    </tr>\n",
       "    <tr>\n",
       "      <th>6</th>\n",
       "      <td>PARTY_DRUG_PHYSICAL_-</td>\n",
       "      <td>0.037</td>\n",
       "    </tr>\n",
       "    <tr>\n",
       "      <th>7</th>\n",
       "      <td>PARTY_COUNT</td>\n",
       "      <td>0.028</td>\n",
       "    </tr>\n",
       "    <tr>\n",
       "      <th>8</th>\n",
       "      <td>PARTY_NUMBER</td>\n",
       "      <td>0.016</td>\n",
       "    </tr>\n",
       "    <tr>\n",
       "      <th>9</th>\n",
       "      <td>ALCOHOL_INVOLVED_Y</td>\n",
       "      <td>0.015</td>\n",
       "    </tr>\n",
       "  </tbody>\n",
       "</table>\n",
       "</div>"
      ],
      "text/plain": [
       "                 FEATURE  VALUE\n",
       "0         COLLISION_DATE  0.145\n",
       "1         COLLISION_TIME  0.142\n",
       "2              PARTY_AGE  0.120\n",
       "3          ACCIDENT_YEAR  0.066\n",
       "4  PARTY_DRUG_PHYSICAL_E  0.064\n",
       "5            DAY_OF_WEEK  0.059\n",
       "6  PARTY_DRUG_PHYSICAL_-  0.037\n",
       "7            PARTY_COUNT  0.028\n",
       "8           PARTY_NUMBER  0.016\n",
       "9     ALCOHOL_INVOLVED_Y  0.015"
      ]
     },
     "execution_count": 11,
     "metadata": {},
     "output_type": "execute_result"
    }
   ],
   "source": [
    "pd.set_option('display.float_format', lambda x: '%.3f' % x) #now in a nice table\n",
    "pd.DataFrame.from_records(k_1_feat[0:10], columns=['FEATURE', 'VALUE'])"
   ]
  },
  {
   "cell_type": "code",
   "execution_count": 128,
   "metadata": {
    "collapsed": false
   },
   "outputs": [
    {
     "name": "stdout",
     "output_type": "stream",
     "text": [
      "             precision    recall  f1-score   support\n",
      "\n",
      "        0.0       0.97      1.00      0.99     58209\n",
      "        1.0       0.76      0.18      0.29      1980\n",
      "        2.0       0.00      0.00      0.00        59\n",
      "        5.0       1.00      1.00      1.00         2\n",
      "\n",
      "avg / total       0.96      0.97      0.96     60250\n",
      "\n"
     ]
    }
   ],
   "source": [
    "print(metrics.classification_report(yk_test, rf1k.predict(Xk_test)))"
   ]
  },
  {
   "cell_type": "markdown",
   "metadata": {},
   "source": [
    "A little suspicious about collision date, time, and party age being on top of feature importances - see blog writeup for why. Going to try and engineer these features- we don't need date at all, time can turn into hour, and age needs to be cleaned more (on further examination)"
   ]
  },
  {
   "cell_type": "markdown",
   "metadata": {},
   "source": [
    "### Adding \"HOUR\" feature; cleaning out \"HOUR\" and \"PARTY_AGE\""
   ]
  },
  {
   "cell_type": "code",
   "execution_count": 52,
   "metadata": {
    "collapsed": false
   },
   "outputs": [],
   "source": [
    "df['HOUR'] = np.floor(df.COLLISION_TIME/100)"
   ]
  },
  {
   "cell_type": "code",
   "execution_count": 53,
   "metadata": {
    "collapsed": false
   },
   "outputs": [],
   "source": [
    "df.drop(['COLLISION_TIME'], axis=1, inplace=True)"
   ]
  },
  {
   "cell_type": "code",
   "execution_count": 54,
   "metadata": {
    "collapsed": false
   },
   "outputs": [],
   "source": [
    "df.loc[df.HOUR==25] ; #this was clearly some coding for \"no hour recorded\" not mentioned in the documentation - \n",
    "#going to figure out how prevalent this is, and whether it would be appropriate to consider them missing data and\n",
    "#replace with mean or similar"
   ]
  },
  {
   "cell_type": "code",
   "execution_count": 257,
   "metadata": {
    "collapsed": false
   },
   "outputs": [
    {
     "data": {
      "text/plain": [
       "13.85329104280671"
      ]
     },
     "execution_count": 257,
     "metadata": {},
     "output_type": "execute_result"
    }
   ],
   "source": [
    "df.HOUR.mean()"
   ]
  },
  {
   "cell_type": "code",
   "execution_count": 259,
   "metadata": {
    "collapsed": false
   },
   "outputs": [
    {
     "data": {
      "text/plain": [
       "<matplotlib.axes._subplots.AxesSubplot at 0x121183e10>"
      ]
     },
     "execution_count": 259,
     "metadata": {},
     "output_type": "execute_result"
    },
    {
     "data": {
      "image/png": "[encoded data removed]",
      "text/plain": [
       "<matplotlib.figure.Figure at 0x173c334e0>"
      ]
     },
     "metadata": {},
     "output_type": "display_data"
    }
   ],
   "source": [
    "sns.distplot(df.HOUR, kde=False) #there aren't very many 25-hour, comparatively. I think it's safe to replace"
   ]
  },
  {
   "cell_type": "code",
   "execution_count": 21,
   "metadata": {
    "collapsed": true
   },
   "outputs": [],
   "source": [
    "df['HOUR'] = df['HOUR'].replace(25, 14)"
   ]
  },
  {
   "cell_type": "code",
   "execution_count": 22,
   "metadata": {
    "collapsed": false
   },
   "outputs": [
    {
     "data": {
      "text/plain": [
       "36.0"
      ]
     },
     "execution_count": 22,
     "metadata": {},
     "output_type": "execute_result"
    }
   ],
   "source": [
    "df.PARTY_AGE.median()"
   ]
  },
  {
   "cell_type": "code",
   "execution_count": 264,
   "metadata": {
    "collapsed": false
   },
   "outputs": [
    {
     "data": {
      "text/plain": [
       "22     7119\n",
       "23     7080\n",
       "24     6928\n",
       "21     6713\n",
       "25     6634\n",
       "26     6263\n",
       "998    6017\n",
       "27     5957\n",
       "28     5635\n",
       "20     5631\n",
       "29     5177\n",
       "30     4971\n",
       "31     4724\n",
       "32     4472\n",
       "33     4284\n",
       "19     4221\n",
       "34     4045\n",
       "35     3980\n",
       "36     3851\n",
       "38     3777\n",
       "37     3745\n",
       "47     3739\n",
       "43     3719\n",
       "40     3703\n",
       "46     3674\n",
       "44     3638\n",
       "45     3599\n",
       "42     3596\n",
       "48     3589\n",
       "39     3582\n",
       "       ... \n",
       "85       42\n",
       "83       41\n",
       "7        38\n",
       "82       34\n",
       "84       28\n",
       "6        26\n",
       "86       25\n",
       "87       17\n",
       "88       16\n",
       "5        15\n",
       "89       14\n",
       "100      13\n",
       "91       11\n",
       "99       11\n",
       "92       10\n",
       "0         9\n",
       "90        7\n",
       "96        7\n",
       "93        5\n",
       "101       5\n",
       "95        4\n",
       "98        4\n",
       "97        3\n",
       "4         3\n",
       "3         2\n",
       "2         2\n",
       "104       2\n",
       "94        1\n",
       "102       1\n",
       "1         1\n",
       "Name: PARTY_AGE, dtype: int64"
      ]
     },
     "execution_count": 264,
     "metadata": {},
     "output_type": "execute_result"
    }
   ],
   "source": [
    "df.PARTY_AGE.value_counts() #998 is clearly the code for \"age unknown\". \n",
    "#We're dropping entirely any drivers under 12 and above 85, since there's clearly something wrong with those records\n",
    "#and I'm not sure what (they can't be passengers, because this is filtered on driver), and there's plenty of data.\n",
    "#although anything <16 or >80ish is also suspect."
   ]
  },
  {
   "cell_type": "code",
   "execution_count": 23,
   "metadata": {
    "collapsed": true
   },
   "outputs": [],
   "source": [
    "df_agecorr = df.drop(df[(df.PARTY_AGE<12)|((df.PARTY_AGE>85)&(df.PARTY_AGE!=998))].index)"
   ]
  },
  {
   "cell_type": "code",
   "execution_count": 276,
   "metadata": {
    "collapsed": false
   },
   "outputs": [
    {
     "data": {
      "text/plain": [
       "36.0"
      ]
     },
     "execution_count": 276,
     "metadata": {},
     "output_type": "execute_result"
    }
   ],
   "source": [
    "df_agecorr.PARTY_AGE.median()"
   ]
  },
  {
   "cell_type": "code",
   "execution_count": 24,
   "metadata": {
    "collapsed": true
   },
   "outputs": [],
   "source": [
    "df_agecorr['PARTY_AGE'] = df_agecorr['PARTY_AGE'].replace(998, 36) #replacing the \"age unknown\" code w/ median"
   ]
  },
  {
   "cell_type": "code",
   "execution_count": 284,
   "metadata": {
    "collapsed": false
   },
   "outputs": [
    {
     "data": {
      "text/plain": [
       "<matplotlib.axes._subplots.AxesSubplot at 0x14716d208>"
      ]
     },
     "execution_count": 284,
     "metadata": {},
     "output_type": "execute_result"
    },
    {
     "data": {
      "image/png": "[encoded data removed]",
      "text/plain": [
       "<matplotlib.figure.Figure at 0x14716d0f0>"
      ]
     },
     "metadata": {},
     "output_type": "display_data"
    }
   ],
   "source": [
    "plt.figure(figsize=(20,8))\n",
    "sns.distplot(df_agecorr.PARTY_AGE, bins=73, kde=False, hist_kws=dict(edgecolor=\"k\", linewidth=1))"
   ]
  },
  {
   "cell_type": "markdown",
   "metadata": {},
   "source": [
    "### Predict Unsafe User Behavior- Initial Random Forest Model"
   ]
  },
  {
   "cell_type": "code",
   "execution_count": 293,
   "metadata": {
    "collapsed": true
   },
   "outputs": [],
   "source": [
    "cols = ['PARTY_AGE',\n",
    "       'ACCIDENT_YEAR', 'HOUR', 'DAY_OF_WEEK',\n",
    "       'NUMBER_KILLED', 'NUMBER_INJURED', 'PARTY_COUNT',\n",
    "       'PEDESTRIAN_ACCIDENT', 'BICYCLE_ACCIDENT', 'MOTORCYCLE_ACCIDENT',\n",
    "       'TRUCK_ACCIDENT', 'COUNT_MC_KILLED', 'COUNT_MC_INJURED',\n",
    "       'PARTY_SEX_-', 'PARTY_SEX_F', 'PARTY_SEX_M', 'PARTY_SOBRIETY_-',\n",
    "       'PARTY_SOBRIETY_A', 'PARTY_SOBRIETY_B', 'PARTY_SOBRIETY_C',\n",
    "       'PARTY_SOBRIETY_D', 'PARTY_SOBRIETY_G', 'PARTY_SOBRIETY_H',\n",
    "       'PARTY_DRUG_PHYSICAL_-', 'PARTY_DRUG_PHYSICAL_E',\n",
    "       'PARTY_DRUG_PHYSICAL_F', 'PARTY_DRUG_PHYSICAL_G',\n",
    "       'PARTY_DRUG_PHYSICAL_H', 'PARTY_DRUG_PHYSICAL_I', 'ALCOHOL_INVOLVED_Y', 'SP_INFO_2_-',\n",
    "       'SP_INFO_2_1', 'SP_INFO_2_2', 'SP_INFO_2_3', 'SP_INFO_2_B',\n",
    "       'SP_INFO_2_C', 'SP_INFO_2_D', 'OAF_VIOL_CAT_- ', 'OAF_VIOL_CAT_00',\n",
    "       'OAF_VIOL_CAT_19', 'OAF_VIOL_CAT_20', 'OAF_VIOL_CAT_21',\n",
    "       'OAF_VIOL_CAT_22', 'OAF_VIOL_CAT_23', 'OAF_VIOL_CAT_24',\n",
    "       'OAF_VIOL_CAT_25', 'OAF_VIOL_CAT_26', 'OAF_VIOL_CAT_27',\n",
    "       'OAF_VIOL_CAT_28', 'OAF_VIOL_CAT_29', 'OAF_VIOL_CAT_30',\n",
    "       'OAF_VIOL_CAT_31', 'OAF_VIOL_CAT_33', 'OAF_VIOL_CAT_34',\n",
    "       'OAF_VIOL_CAT_35', 'OAF_VIOL_CAT_38', 'OAF_VIOL_CAT_39',\n",
    "       'OAF_VIOL_CAT_40', 'OAF_VIOL_CAT_43', 'OAF_VIOL_CAT_44',\n",
    "       'OAF_VIOL_CAT_46', 'OAF_VIOL_CAT_47', 'OAF_VIOL_CAT_51',\n",
    "       'OAF_VIOL_CAT_53', 'OAF_VIOL_CAT_60'] #these are the columns that seem like they might have some bearing on\n",
    "#safety-related user behavior (e.g. taking things out like road surface, weather, etc.)"
   ]
  },
  {
   "cell_type": "code",
   "execution_count": 294,
   "metadata": {
    "collapsed": false
   },
   "outputs": [],
   "source": [
    "Xhat,yhat = df_agecorr[cols],df_agecorr['PARTY_SAFETY_EQUIP_2_V']"
   ]
  },
  {
   "cell_type": "code",
   "execution_count": 295,
   "metadata": {
    "collapsed": true
   },
   "outputs": [],
   "source": [
    "Xh_train, Xh_test, yh_train, yh_test = train_test_split(Xhat, yhat, test_size=0.3)"
   ]
  },
  {
   "cell_type": "code",
   "execution_count": 296,
   "metadata": {
    "collapsed": true
   },
   "outputs": [],
   "source": [
    "rf1h = RandomForestClassifier()"
   ]
  },
  {
   "cell_type": "code",
   "execution_count": 297,
   "metadata": {
    "collapsed": false
   },
   "outputs": [
    {
     "data": {
      "text/plain": [
       "RandomForestClassifier(bootstrap=True, class_weight=None, criterion='gini',\n",
       "            max_depth=None, max_features='auto', max_leaf_nodes=None,\n",
       "            min_impurity_split=1e-07, min_samples_leaf=1,\n",
       "            min_samples_split=2, min_weight_fraction_leaf=0.0,\n",
       "            n_estimators=10, n_jobs=1, oob_score=False, random_state=None,\n",
       "            verbose=0, warm_start=False)"
      ]
     },
     "execution_count": 297,
     "metadata": {},
     "output_type": "execute_result"
    }
   ],
   "source": [
    "rf1h.fit(Xh_train,yh_train)"
   ]
  },
  {
   "cell_type": "code",
   "execution_count": 298,
   "metadata": {
    "collapsed": false
   },
   "outputs": [
    {
     "data": {
      "text/plain": [
       "0.99240807997202973"
      ]
     },
     "execution_count": 298,
     "metadata": {},
     "output_type": "execute_result"
    }
   ],
   "source": [
    "nocrossvalscore= rf1h.score(Xh_train,yh_train)\n",
    "nocrossvalscore"
   ]
  },
  {
   "cell_type": "code",
   "execution_count": 299,
   "metadata": {
    "collapsed": false
   },
   "outputs": [
    {
     "data": {
      "text/plain": [
       "0.97048197785732127"
      ]
     },
     "execution_count": 299,
     "metadata": {},
     "output_type": "execute_result"
    }
   ],
   "source": [
    "holdoutscore = rf1h.score(Xh_test, yh_test)\n",
    "holdoutscore"
   ]
  },
  {
   "cell_type": "code",
   "execution_count": 300,
   "metadata": {
    "collapsed": false
   },
   "outputs": [
    {
     "data": {
      "text/plain": [
       "0    59794\n",
       "1      271\n",
       "Name: 0, dtype: int64"
      ]
     },
     "execution_count": 300,
     "metadata": {},
     "output_type": "execute_result"
    }
   ],
   "source": [
    "df_hat_predict = pd.DataFrame(rf1h.predict(Xh_test))\n",
    "df_hat_predict[0].value_counts() #it is predicting some of class 1, although not quite the same proportion as \n",
    "#are present in the dataset"
   ]
  },
  {
   "cell_type": "code",
   "execution_count": 301,
   "metadata": {
    "collapsed": false
   },
   "outputs": [
    {
     "data": {
      "text/plain": [
       "0    195597\n",
       "1      5236\n",
       "Name: PARTY_SAFETY_EQUIP_2_V, dtype: int64"
      ]
     },
     "execution_count": 301,
     "metadata": {},
     "output_type": "execute_result"
    }
   ],
   "source": [
    "df.PARTY_SAFETY_EQUIP_2_V.value_counts()"
   ]
  },
  {
   "cell_type": "code",
   "execution_count": 302,
   "metadata": {
    "collapsed": false
   },
   "outputs": [
    {
     "name": "stdout",
     "output_type": "stream",
     "text": [
      "             precision    recall  f1-score   support\n",
      "\n",
      "          0       0.97      1.00      0.99     58485\n",
      "          1       0.14      0.02      0.04      1580\n",
      "\n",
      "avg / total       0.95      0.97      0.96     60065\n",
      "\n"
     ]
    }
   ],
   "source": [
    "print(metrics.classification_report(yh_test, rf1h.predict(Xh_test))) #class imbalance problem"
   ]
  },
  {
   "cell_type": "code",
   "execution_count": 303,
   "metadata": {
    "collapsed": false
   },
   "outputs": [
    {
     "data": {
      "text/plain": [
       "[('PARTY_AGE', 0.32823776524803561),\n",
       " ('HOUR', 0.20643254781617956),\n",
       " ('ACCIDENT_YEAR', 0.17501094902417449),\n",
       " ('DAY_OF_WEEK', 0.11583036433238085),\n",
       " ('PARTY_COUNT', 0.030135605481785149),\n",
       " ('NUMBER_INJURED', 0.019291533955971753),\n",
       " ('COUNT_MC_INJURED', 0.015199772812682422),\n",
       " ('SP_INFO_2_3', 0.0085322910503074102),\n",
       " ('OAF_VIOL_CAT_25', 0.0061509354014725468),\n",
       " ('OAF_VIOL_CAT_- ', 0.0059876155052730265),\n",
       " ('PARTY_SEX_M', 0.0056289823381223906),\n",
       " ('PARTY_SOBRIETY_A', 0.0052750420185857065),\n",
       " ('PARTY_SOBRIETY_B', 0.0049336047844214786),\n",
       " ('ALCOHOL_INVOLVED_Y', 0.0047871323101680938),\n",
       " ('PARTY_SEX_F', 0.0047153914704937943),\n",
       " ('SP_INFO_2_-', 0.0043467152126082402),\n",
       " ('OAF_VIOL_CAT_31', 0.004321204123746477),\n",
       " ('NUMBER_KILLED', 0.0036472724174096706),\n",
       " ('COUNT_MC_KILLED', 0.0036140110521262203),\n",
       " ('OAF_VIOL_CAT_44', 0.0035930830234275702),\n",
       " ('TRUCK_ACCIDENT', 0.0030443162312729461),\n",
       " ('OAF_VIOL_CAT_27', 0.0029572689936673692),\n",
       " ('PARTY_DRUG_PHYSICAL_-', 0.0028539248233766475),\n",
       " ('PEDESTRIAN_ACCIDENT', 0.0022848423591056701),\n",
       " ('SP_INFO_2_D', 0.002195289023754664),\n",
       " ('PARTY_SOBRIETY_D', 0.0019793951843177339),\n",
       " ('PARTY_DRUG_PHYSICAL_E', 0.0019124049766091865),\n",
       " ('PARTY_SOBRIETY_C', 0.0018681274910101753),\n",
       " ('OAF_VIOL_CAT_24', 0.0018340926770986602),\n",
       " ('PARTY_SOBRIETY_-', 0.0014949710820228307),\n",
       " ('OAF_VIOL_CAT_47', 0.0013444704931696381),\n",
       " ('OAF_VIOL_CAT_20', 0.0013106075282036912),\n",
       " ('SP_INFO_2_2', 0.0012842680665961907),\n",
       " ('OAF_VIOL_CAT_29', 0.0012617245793701127),\n",
       " ('OAF_VIOL_CAT_60', 0.001252076332329278),\n",
       " ('PARTY_DRUG_PHYSICAL_G', 0.0012131518017069408),\n",
       " ('OAF_VIOL_CAT_33', 0.0012122554151376263),\n",
       " ('PARTY_SOBRIETY_G', 0.0010986231178786805),\n",
       " ('PARTY_SEX_-', 0.0010802037765386663),\n",
       " ('OAF_VIOL_CAT_23', 0.001051545287404201),\n",
       " ('SP_INFO_2_C', 0.001051116035799428),\n",
       " ('OAF_VIOL_CAT_28', 0.0008814549545653694),\n",
       " ('OAF_VIOL_CAT_26', 0.00085622612268008416),\n",
       " ('BICYCLE_ACCIDENT', 0.00079122541653718691),\n",
       " ('OAF_VIOL_CAT_40', 0.00076709116683719154),\n",
       " ('OAF_VIOL_CAT_00', 0.00072801873218804357),\n",
       " ('OAF_VIOL_CAT_43', 0.00067978248149020923),\n",
       " ('OAF_VIOL_CAT_39', 0.00060035225299240953),\n",
       " ('OAF_VIOL_CAT_46', 0.00048864184481980466),\n",
       " ('PARTY_SOBRIETY_H', 0.00040168295364299367),\n",
       " ('OAF_VIOL_CAT_53', 0.00039051535258155252),\n",
       " ('PARTY_DRUG_PHYSICAL_F', 0.00038346607193556916),\n",
       " ('PARTY_DRUG_PHYSICAL_H', 0.00038086615997088739),\n",
       " ('OAF_VIOL_CAT_22', 0.00032357926892879996),\n",
       " ('OAF_VIOL_CAT_19', 0.00030649025917634713),\n",
       " ('OAF_VIOL_CAT_38', 0.00021918605137586454),\n",
       " ('OAF_VIOL_CAT_30', 0.00020395347842522139),\n",
       " ('SP_INFO_2_1', 0.0001386180923069053),\n",
       " ('SP_INFO_2_B', 9.486266522593353e-05),\n",
       " ('OAF_VIOL_CAT_34', 5.646786020635754e-05),\n",
       " ('PARTY_DRUG_PHYSICAL_I', 4.4942589672095852e-05),\n",
       " ('OAF_VIOL_CAT_21', 5.7940236403221225e-06),\n",
       " ('OAF_VIOL_CAT_35', 2.8754505803429628e-07),\n",
       " ('MOTORCYCLE_ACCIDENT', 0.0),\n",
       " ('OAF_VIOL_CAT_51', 0.0)]"
      ]
     },
     "execution_count": 303,
     "metadata": {},
     "output_type": "execute_result"
    }
   ],
   "source": [
    "sorted(zip(Xhat.columns,abs(rf1h.feature_importances_)), key=lambda x: -x[1])"
   ]
  },
  {
   "cell_type": "code",
   "execution_count": 414,
   "metadata": {
    "collapsed": false
   },
   "outputs": [
    {
     "data": {
      "text/plain": [
       "[<matplotlib.text.Text at 0x1a2e97390>, <matplotlib.text.Text at 0x1a2e43c50>]"
      ]
     },
     "execution_count": 414,
     "metadata": {},
     "output_type": "execute_result"
    },
    {
     "data": {
      "image/png": "[encoded data removed]",
      "text/plain": [
       "<matplotlib.figure.Figure at 0x1a2df7390>"
      ]
     },
     "metadata": {},
     "output_type": "display_data"
    }
   ],
   "source": [
    "plt.figure(figsize=(15,8))\n",
    "ax = sns.barplot(y=df_agecorr.PARTY_SAFETY_EQUIP_2_V, x=df_agecorr.PARTY_AGE, palette='viridis')\n",
    "ax.set(xlabel='Age', ylabel='Likelihood of Not Wearing Helmet') #a visualization of the \"party age\" feature"
   ]
  },
  {
   "cell_type": "code",
   "execution_count": 415,
   "metadata": {
    "collapsed": false
   },
   "outputs": [
    {
     "data": {
      "text/plain": [
       "[<matplotlib.text.Text at 0x13feb7550>, <matplotlib.text.Text at 0x1878f0128>]"
      ]
     },
     "execution_count": 415,
     "metadata": {},
     "output_type": "execute_result"
    },
    {
     "data": {
      "image/png": "[encoded data removed]",
      "text/plain": [
       "<matplotlib.figure.Figure at 0x1a2df7d68>"
      ]
     },
     "metadata": {},
     "output_type": "display_data"
    }
   ],
   "source": [
    "plt.figure(figsize=(15,8))\n",
    "ax = sns.barplot(x=df_agecorr.HOUR, y=df_agecorr.PARTY_SAFETY_EQUIP_2_V)\n",
    "ax.set(xlabel='Hour of Day', ylabel='Likelihood of Not Wearing Helmet')"
   ]
  },
  {
   "cell_type": "markdown",
   "metadata": {},
   "source": [
    "### Fatalities model again, this time with the new, better hour and age features"
   ]
  },
  {
   "cell_type": "code",
   "execution_count": 25,
   "metadata": {
    "collapsed": true
   },
   "outputs": [],
   "source": [
    "X1k,y1k = df_agecorr.drop(['COUNT_MC_KILLED', 'COUNT_MC_INJURED', 'NUMBER_INJURED', 'CASE_ID_x', 'NUMBER_KILLED', 'COLLISION_DATE'], axis=1),df_agecorr['NUMBER_KILLED']"
   ]
  },
  {
   "cell_type": "code",
   "execution_count": 26,
   "metadata": {
    "collapsed": true
   },
   "outputs": [],
   "source": [
    "Xk1_train, Xk1_test, yk1_train, yk1_test = train_test_split(X1k, y1k, test_size=0.3)"
   ]
  },
  {
   "cell_type": "code",
   "execution_count": 27,
   "metadata": {
    "collapsed": true
   },
   "outputs": [],
   "source": [
    "rf2k = RandomForestClassifier()"
   ]
  },
  {
   "cell_type": "code",
   "execution_count": 28,
   "metadata": {
    "collapsed": false
   },
   "outputs": [
    {
     "data": {
      "text/plain": [
       "RandomForestClassifier(bootstrap=True, class_weight=None, criterion='gini',\n",
       "            max_depth=None, max_features='auto', max_leaf_nodes=None,\n",
       "            min_impurity_split=1e-07, min_samples_leaf=1,\n",
       "            min_samples_split=2, min_weight_fraction_leaf=0.0,\n",
       "            n_estimators=10, n_jobs=1, oob_score=False, random_state=None,\n",
       "            verbose=0, warm_start=False)"
      ]
     },
     "execution_count": 28,
     "metadata": {},
     "output_type": "execute_result"
    }
   ],
   "source": [
    "rf2k.fit(Xk1_train,yk1_train)"
   ]
  },
  {
   "cell_type": "code",
   "execution_count": 450,
   "metadata": {
    "collapsed": false
   },
   "outputs": [
    {
     "data": {
      "text/plain": [
       "0.99400637892528665"
      ]
     },
     "execution_count": 450,
     "metadata": {},
     "output_type": "execute_result"
    }
   ],
   "source": [
    "nocrossvalscore= rf2k.score(Xk1_train,yk1_train)\n",
    "nocrossvalscore"
   ]
  },
  {
   "cell_type": "code",
   "execution_count": 451,
   "metadata": {
    "collapsed": false
   },
   "outputs": [
    {
     "data": {
      "text/plain": [
       "0.97001581619911759"
      ]
     },
     "execution_count": 451,
     "metadata": {},
     "output_type": "execute_result"
    }
   ],
   "source": [
    "holdoutscore = rf2k.score(Xk1_test, yk1_test)\n",
    "holdoutscore"
   ]
  },
  {
   "cell_type": "code",
   "execution_count": 29,
   "metadata": {
    "collapsed": false
   },
   "outputs": [
    {
     "data": {
      "text/plain": [
       "[('PARTY_AGE', 0.17605190368825357),\n",
       " ('HOUR', 0.12553567826344572),\n",
       " ('ACCIDENT_YEAR', 0.10896346577191481),\n",
       " ('PARTY_DRUG_PHYSICAL_E', 0.094936502740161688),\n",
       " ('DAY_OF_WEEK', 0.076919285160799142),\n",
       " ('PARTY_COUNT', 0.033578789911182752),\n",
       " ('PARTY_DRUG_PHYSICAL_-', 0.025617888627105255),\n",
       " ('PARTY_NUMBER', 0.016937882315676434),\n",
       " ('PARTY_SOBRIETY_A', 0.016211171589806318),\n",
       " ('AT_FAULT', 0.013936760826984923)]"
      ]
     },
     "execution_count": 29,
     "metadata": {},
     "output_type": "execute_result"
    }
   ],
   "source": [
    "k_2_feat = sorted(zip(X1k.columns,abs(rf2k.feature_importances_)), key=lambda x: -x[1])\n",
    "k_2_feat[0:10]"
   ]
  },
  {
   "cell_type": "code",
   "execution_count": 31,
   "metadata": {
    "collapsed": false
   },
   "outputs": [
    {
     "data": {
      "text/html": [
       "<div>\n",
       "<table border=\"1\" class=\"dataframe\">\n",
       "  <thead>\n",
       "    <tr style=\"text-align: right;\">\n",
       "      <th></th>\n",
       "      <th>FEATURE</th>\n",
       "      <th>VALUE</th>\n",
       "    </tr>\n",
       "  </thead>\n",
       "  <tbody>\n",
       "    <tr>\n",
       "      <th>0</th>\n",
       "      <td>PARTY_AGE</td>\n",
       "      <td>0.176</td>\n",
       "    </tr>\n",
       "    <tr>\n",
       "      <th>1</th>\n",
       "      <td>HOUR</td>\n",
       "      <td>0.126</td>\n",
       "    </tr>\n",
       "    <tr>\n",
       "      <th>2</th>\n",
       "      <td>ACCIDENT_YEAR</td>\n",
       "      <td>0.109</td>\n",
       "    </tr>\n",
       "    <tr>\n",
       "      <th>3</th>\n",
       "      <td>PARTY_DRUG_PHYSICAL_E</td>\n",
       "      <td>0.095</td>\n",
       "    </tr>\n",
       "    <tr>\n",
       "      <th>4</th>\n",
       "      <td>DAY_OF_WEEK</td>\n",
       "      <td>0.077</td>\n",
       "    </tr>\n",
       "    <tr>\n",
       "      <th>5</th>\n",
       "      <td>PARTY_COUNT</td>\n",
       "      <td>0.034</td>\n",
       "    </tr>\n",
       "    <tr>\n",
       "      <th>6</th>\n",
       "      <td>PARTY_DRUG_PHYSICAL_-</td>\n",
       "      <td>0.026</td>\n",
       "    </tr>\n",
       "    <tr>\n",
       "      <th>7</th>\n",
       "      <td>PARTY_NUMBER</td>\n",
       "      <td>0.017</td>\n",
       "    </tr>\n",
       "    <tr>\n",
       "      <th>8</th>\n",
       "      <td>PARTY_SOBRIETY_A</td>\n",
       "      <td>0.016</td>\n",
       "    </tr>\n",
       "    <tr>\n",
       "      <th>9</th>\n",
       "      <td>AT_FAULT</td>\n",
       "      <td>0.014</td>\n",
       "    </tr>\n",
       "  </tbody>\n",
       "</table>\n",
       "</div>"
      ],
      "text/plain": [
       "                 FEATURE  VALUE\n",
       "0              PARTY_AGE  0.176\n",
       "1                   HOUR  0.126\n",
       "2          ACCIDENT_YEAR  0.109\n",
       "3  PARTY_DRUG_PHYSICAL_E  0.095\n",
       "4            DAY_OF_WEEK  0.077\n",
       "5            PARTY_COUNT  0.034\n",
       "6  PARTY_DRUG_PHYSICAL_-  0.026\n",
       "7           PARTY_NUMBER  0.017\n",
       "8       PARTY_SOBRIETY_A  0.016\n",
       "9               AT_FAULT  0.014"
      ]
     },
     "execution_count": 31,
     "metadata": {},
     "output_type": "execute_result"
    }
   ],
   "source": [
    "pd.set_option('display.float_format', lambda x: '%.3f' % x)\n",
    "pd.DataFrame.from_records(k_2_feat[0:10], columns=['FEATURE', 'VALUE'])"
   ]
  },
  {
   "cell_type": "code",
   "execution_count": 324,
   "metadata": {
    "collapsed": false
   },
   "outputs": [
    {
     "data": {
      "text/plain": [
       "0.0    59457\n",
       "1.0      606\n",
       "2.0        2\n",
       "Name: 0, dtype: int64"
      ]
     },
     "execution_count": 324,
     "metadata": {},
     "output_type": "execute_result"
    }
   ],
   "source": [
    "df_2k_predict = pd.DataFrame(rf2k.predict(Xk1_test))\n",
    "df_2k_predict[0].value_counts()"
   ]
  },
  {
   "cell_type": "code",
   "execution_count": 32,
   "metadata": {
    "collapsed": false
   },
   "outputs": [
    {
     "data": {
      "text/plain": [
       "0.000    193427\n",
       "1.000      6600\n",
       "2.000       174\n",
       "5.000         6\n",
       "3.000         6\n",
       "4.000         1\n",
       "Name: NUMBER_KILLED, dtype: int64"
      ]
     },
     "execution_count": 32,
     "metadata": {},
     "output_type": "execute_result"
    }
   ],
   "source": [
    "df_agecorr.NUMBER_KILLED.value_counts() #this true percentage from the data is actually fairly close to the \n",
    "#predicted values above- class imbalance may not be too bad (or at least not just predicting false negatives)"
   ]
  },
  {
   "cell_type": "code",
   "execution_count": 292,
   "metadata": {
    "collapsed": false
   },
   "outputs": [
    {
     "name": "stdout",
     "output_type": "stream",
     "text": [
      "             precision    recall  f1-score   support\n",
      "\n",
      "        0.0       0.97      1.00      0.98     58014\n",
      "        1.0       0.68      0.21      0.32      1992\n",
      "        2.0       0.50      0.02      0.04        54\n",
      "        3.0       0.00      0.00      0.00         1\n",
      "        5.0       0.00      0.00      0.00         4\n",
      "\n",
      "avg / total       0.96      0.97      0.96     60065\n",
      "\n"
     ]
    },
    {
     "name": "stderr",
     "output_type": "stream",
     "text": [
      "/Users/hritter/anaconda/lib/python3.6/site-packages/sklearn/metrics/classification.py:1113: UndefinedMetricWarning: Precision and F-score are ill-defined and being set to 0.0 in labels with no predicted samples.\n",
      "  'precision', 'predicted', average, warn_for)\n"
     ]
    }
   ],
   "source": [
    "print(metrics.classification_report(yk1_test, rf2k.predict(Xk1_test))) #nevermind, that's not great"
   ]
  },
  {
   "cell_type": "code",
   "execution_count": 400,
   "metadata": {
    "collapsed": false
   },
   "outputs": [
    {
     "data": {
      "text/plain": [
       "[<matplotlib.text.Text at 0x187697d68>, <matplotlib.text.Text at 0x177ec6d30>]"
      ]
     },
     "execution_count": 400,
     "metadata": {},
     "output_type": "execute_result"
    },
    {
     "data": {
      "image/png": "[encoded data removed]",
      "text/plain": [
       "<matplotlib.figure.Figure at 0x186af7358>"
      ]
     },
     "metadata": {},
     "output_type": "display_data"
    }
   ],
   "source": [
    "plt.figure(figsize=(15,8))\n",
    "ax = sns.barplot(x=df_agecorr.HOUR, y=df_agecorr.NUMBER_KILLED)\n",
    "ax.set(xlabel='Hour of Day', ylabel='Likelihood of Fatality')"
   ]
  },
  {
   "cell_type": "code",
   "execution_count": 401,
   "metadata": {
    "collapsed": false,
    "scrolled": true
   },
   "outputs": [
    {
     "data": {
      "text/plain": [
       "(0, 0.15)"
      ]
     },
     "execution_count": 401,
     "metadata": {},
     "output_type": "execute_result"
    },
    {
     "data": {
      "image/png": "[encoded data removed]",
      "text/plain": [
       "<matplotlib.figure.Figure at 0x18789f9b0>"
      ]
     },
     "metadata": {},
     "output_type": "display_data"
    }
   ],
   "source": [
    "plt.figure(figsize=(20,8))\n",
    "ax = sns.barplot(x=df_agecorr.PARTY_AGE, y=df_agecorr.NUMBER_KILLED, palette='viridis')\n",
    "ax.set(xlabel='Age', ylabel='Likelihood of Fatality')\n",
    "sns.plt.ylim(0, 0.15)"
   ]
  },
  {
   "cell_type": "markdown",
   "metadata": {},
   "source": [
    "### Check whether age is important because of bin count:"
   ]
  },
  {
   "cell_type": "code",
   "execution_count": 33,
   "metadata": {
    "collapsed": true
   },
   "outputs": [],
   "source": [
    "#as mentioned above, suspicion that high-bin count variables may be overweighted in the feature importances list\n",
    "#because of the way scikit-learn calculates feature importance based on Gini importance. See blog writeup. The best\n",
    "#way to make sure is to make a new model dropping those features, and then see how much predictive power it loses."
   ]
  },
  {
   "cell_type": "code",
   "execution_count": 318,
   "metadata": {
    "collapsed": true
   },
   "outputs": [],
   "source": [
    "X2k,y2k = df_agecorr.drop(['COUNT_MC_KILLED', 'COUNT_MC_INJURED', 'NUMBER_INJURED', 'CASE_ID_x', 'NUMBER_KILLED', 'COLLISION_DATE', 'PARTY_AGE'], axis=1),df_agecorr['NUMBER_KILLED']"
   ]
  },
  {
   "cell_type": "code",
   "execution_count": 319,
   "metadata": {
    "collapsed": true
   },
   "outputs": [],
   "source": [
    "X2k_train, X2k_test, y2k_train, y2k_test = train_test_split(X2k, y2k, test_size=0.3)"
   ]
  },
  {
   "cell_type": "code",
   "execution_count": 320,
   "metadata": {
    "collapsed": true
   },
   "outputs": [],
   "source": [
    "rf3k = RandomForestClassifier()"
   ]
  },
  {
   "cell_type": "code",
   "execution_count": 321,
   "metadata": {
    "collapsed": false
   },
   "outputs": [
    {
     "data": {
      "text/plain": [
       "RandomForestClassifier(bootstrap=True, class_weight=None, criterion='gini',\n",
       "            max_depth=None, max_features='auto', max_leaf_nodes=None,\n",
       "            min_impurity_split=1e-07, min_samples_leaf=1,\n",
       "            min_samples_split=2, min_weight_fraction_leaf=0.0,\n",
       "            n_estimators=10, n_jobs=1, oob_score=False, random_state=None,\n",
       "            verbose=0, warm_start=False)"
      ]
     },
     "execution_count": 321,
     "metadata": {},
     "output_type": "execute_result"
    }
   ],
   "source": [
    "rf3k.fit(X2k_train,y2k_train)"
   ]
  },
  {
   "cell_type": "code",
   "execution_count": 322,
   "metadata": {
    "collapsed": false
   },
   "outputs": [
    {
     "data": {
      "text/plain": [
       "0.99045301785956374"
      ]
     },
     "execution_count": 322,
     "metadata": {},
     "output_type": "execute_result"
    }
   ],
   "source": [
    "nocrossvalscore= rf3k.score(X2k_train,y2k_train)\n",
    "nocrossvalscore"
   ]
  },
  {
   "cell_type": "code",
   "execution_count": 323,
   "metadata": {
    "collapsed": false
   },
   "outputs": [
    {
     "data": {
      "text/plain": [
       "0.96875052026970787"
      ]
     },
     "execution_count": 323,
     "metadata": {},
     "output_type": "execute_result"
    }
   ],
   "source": [
    "holdoutscore = rf3k.score(X2k_test, y2k_test)\n",
    "holdoutscore"
   ]
  },
  {
   "cell_type": "code",
   "execution_count": 333,
   "metadata": {
    "collapsed": false
   },
   "outputs": [
    {
     "name": "stdout",
     "output_type": "stream",
     "text": [
      "             precision    recall  f1-score   support\n",
      "\n",
      "        0.0       0.97      0.99      0.98     58057\n",
      "        1.0       0.58      0.22      0.32      1962\n",
      "        2.0       0.12      0.02      0.04        44\n",
      "        3.0       0.00      0.00      0.00         1\n",
      "        5.0       1.00      1.00      1.00         1\n",
      "\n",
      "avg / total       0.96      0.97      0.96     60065\n",
      "\n"
     ]
    },
    {
     "name": "stderr",
     "output_type": "stream",
     "text": [
      "/Users/hritter/anaconda/lib/python3.6/site-packages/sklearn/metrics/classification.py:1113: UndefinedMetricWarning: Precision and F-score are ill-defined and being set to 0.0 in labels with no predicted samples.\n",
      "  'precision', 'predicted', average, warn_for)\n"
     ]
    }
   ],
   "source": [
    "print(metrics.classification_report(y2k_test, rf3k.predict(X2k_test)))"
   ]
  },
  {
   "cell_type": "code",
   "execution_count": null,
   "metadata": {
    "collapsed": true
   },
   "outputs": [],
   "source": [
    "#class 1 precision goes from 0.68 to 0.58 in age-dropped model - clearly somewhat important"
   ]
  },
  {
   "cell_type": "markdown",
   "metadata": {
    "collapsed": true
   },
   "source": [
    "### Check whether hour is important because of bin count:"
   ]
  },
  {
   "cell_type": "code",
   "execution_count": 35,
   "metadata": {
    "collapsed": true
   },
   "outputs": [],
   "source": [
    "X3k,y3k = df_agecorr.drop(['COUNT_MC_KILLED', 'COUNT_MC_INJURED', 'NUMBER_INJURED', 'CASE_ID_x', 'NUMBER_KILLED', 'COLLISION_DATE', 'HOUR'], axis=1),df_agecorr['NUMBER_KILLED']"
   ]
  },
  {
   "cell_type": "code",
   "execution_count": 36,
   "metadata": {
    "collapsed": true
   },
   "outputs": [],
   "source": [
    "X3k_train, X3k_test, y3k_train, y3k_test = train_test_split(X3k, y3k, test_size=0.3)"
   ]
  },
  {
   "cell_type": "code",
   "execution_count": 37,
   "metadata": {
    "collapsed": true
   },
   "outputs": [],
   "source": [
    "rf4k = RandomForestClassifier()"
   ]
  },
  {
   "cell_type": "code",
   "execution_count": 38,
   "metadata": {
    "collapsed": false
   },
   "outputs": [
    {
     "data": {
      "text/plain": [
       "RandomForestClassifier(bootstrap=True, class_weight=None, criterion='gini',\n",
       "            max_depth=None, max_features='auto', max_leaf_nodes=None,\n",
       "            min_impurity_split=1e-07, min_samples_leaf=1,\n",
       "            min_samples_split=2, min_weight_fraction_leaf=0.0,\n",
       "            n_estimators=10, n_jobs=1, oob_score=False, random_state=None,\n",
       "            verbose=0, warm_start=False)"
      ]
     },
     "execution_count": 38,
     "metadata": {},
     "output_type": "execute_result"
    }
   ],
   "source": [
    "rf4k.fit(X3k_train,y3k_train)"
   ]
  },
  {
   "cell_type": "code",
   "execution_count": 330,
   "metadata": {
    "collapsed": false
   },
   "outputs": [
    {
     "data": {
      "text/plain": [
       "0.99210839891829405"
      ]
     },
     "execution_count": 330,
     "metadata": {},
     "output_type": "execute_result"
    }
   ],
   "source": [
    "nocrossvalscore= rf4k.score(X3k_train,y3k_train)\n",
    "nocrossvalscore"
   ]
  },
  {
   "cell_type": "code",
   "execution_count": 332,
   "metadata": {
    "collapsed": false
   },
   "outputs": [
    {
     "data": {
      "text/plain": [
       "0.96838425039540499"
      ]
     },
     "execution_count": 332,
     "metadata": {},
     "output_type": "execute_result"
    }
   ],
   "source": [
    "holdoutscore = rf4k.score(X3k_test, y3k_test)\n",
    "holdoutscore"
   ]
  },
  {
   "cell_type": "code",
   "execution_count": 39,
   "metadata": {
    "collapsed": false
   },
   "outputs": [
    {
     "name": "stdout",
     "output_type": "stream",
     "text": [
      "             precision    recall  f1-score   support\n",
      "\n",
      "        0.0       0.97      1.00      0.98     58056\n",
      "        1.0       0.57      0.20      0.30      1953\n",
      "        2.0       0.20      0.02      0.03        54\n",
      "        3.0       0.00      0.00      0.00         1\n",
      "        5.0       1.00      1.00      1.00         1\n",
      "\n",
      "avg / total       0.96      0.97      0.96     60065\n",
      "\n"
     ]
    },
    {
     "name": "stderr",
     "output_type": "stream",
     "text": [
      "/Users/hritter/anaconda/lib/python3.6/site-packages/sklearn/metrics/classification.py:1113: UndefinedMetricWarning: Precision and F-score are ill-defined and being set to 0.0 in labels with no predicted samples.\n",
      "  'precision', 'predicted', average, warn_for)\n"
     ]
    }
   ],
   "source": [
    "print(metrics.classification_report(y3k_test, rf4k.predict(X3k_test))) #model precision declines \n",
    "#substantially and recall slightly compared to model with both in it, more so than taking age out,\n",
    "#even though age was considered the \"more important\" feature - indicating that the \"feature importances\"\n",
    "#may have in fact been assigning a higher score due to there being lots of categorical bins; however, both features\n",
    "#are clearly still important"
   ]
  },
  {
   "cell_type": "markdown",
   "metadata": {},
   "source": [
    "### 50-50 class split model for helmets"
   ]
  },
  {
   "cell_type": "code",
   "execution_count": 40,
   "metadata": {
    "collapsed": true
   },
   "outputs": [],
   "source": [
    "#as noted above, there is a class imbalance problem. One way to get a model with higher recall is to rebalance\n",
    "#the classes so the model trains on more of the smaller class."
   ]
  },
  {
   "cell_type": "code",
   "execution_count": 348,
   "metadata": {
    "collapsed": false
   },
   "outputs": [
    {
     "data": {
      "text/plain": [
       "0    195060\n",
       "1      5154\n",
       "Name: PARTY_SAFETY_EQUIP_2_V, dtype: int64"
      ]
     },
     "execution_count": 348,
     "metadata": {},
     "output_type": "execute_result"
    }
   ],
   "source": [
    "df_agecorr.PARTY_SAFETY_EQUIP_2_V.value_counts()"
   ]
  },
  {
   "cell_type": "code",
   "execution_count": 350,
   "metadata": {
    "collapsed": false
   },
   "outputs": [],
   "source": [
    "H_indices = df_agecorr[df_agecorr.PARTY_SAFETY_EQUIP_2_V == 0].index #creating 50-50 sample\n",
    "random_indices = np.random.choice(H_indices, 5154, replace=False)\n",
    "H_sample = df_agecorr.loc[random_indices]"
   ]
  },
  {
   "cell_type": "code",
   "execution_count": 351,
   "metadata": {
    "collapsed": true
   },
   "outputs": [],
   "source": [
    "NH_indices = df_agecorr[df_agecorr.PARTY_SAFETY_EQUIP_2_V == 1].index\n",
    "NH_sample = df_agecorr.loc[NH_indices]"
   ]
  },
  {
   "cell_type": "code",
   "execution_count": 352,
   "metadata": {
    "collapsed": true
   },
   "outputs": [],
   "source": [
    "for_model = H_sample.append(NH_sample)"
   ]
  },
  {
   "cell_type": "code",
   "execution_count": 354,
   "metadata": {
    "collapsed": true
   },
   "outputs": [],
   "source": [
    "Xhat1,yhat1 = for_model[cols],for_model['PARTY_SAFETY_EQUIP_2_V']"
   ]
  },
  {
   "cell_type": "code",
   "execution_count": 355,
   "metadata": {
    "collapsed": true
   },
   "outputs": [],
   "source": [
    "Xhat1_train, Xhat1_test, yhat1_train, yhat1_test = train_test_split(Xhat1, yhat1, test_size=0.3)"
   ]
  },
  {
   "cell_type": "code",
   "execution_count": 356,
   "metadata": {
    "collapsed": true
   },
   "outputs": [],
   "source": [
    "rf5 = RandomForestClassifier()"
   ]
  },
  {
   "cell_type": "code",
   "execution_count": 357,
   "metadata": {
    "collapsed": false
   },
   "outputs": [
    {
     "data": {
      "text/plain": [
       "RandomForestClassifier(bootstrap=True, class_weight=None, criterion='gini',\n",
       "            max_depth=None, max_features='auto', max_leaf_nodes=None,\n",
       "            min_impurity_split=1e-07, min_samples_leaf=1,\n",
       "            min_samples_split=2, min_weight_fraction_leaf=0.0,\n",
       "            n_estimators=10, n_jobs=1, oob_score=False, random_state=None,\n",
       "            verbose=0, warm_start=False)"
      ]
     },
     "execution_count": 357,
     "metadata": {},
     "output_type": "execute_result"
    }
   ],
   "source": [
    "rf5.fit(Xhat1_train,yhat1_train)"
   ]
  },
  {
   "cell_type": "code",
   "execution_count": 358,
   "metadata": {
    "collapsed": false
   },
   "outputs": [
    {
     "data": {
      "text/plain": [
       "0.98059598059598063"
      ]
     },
     "execution_count": 358,
     "metadata": {},
     "output_type": "execute_result"
    }
   ],
   "source": [
    "nocrossvalscore= rf5.score(Xhat1_train,yhat1_train)\n",
    "nocrossvalscore"
   ]
  },
  {
   "cell_type": "code",
   "execution_count": 359,
   "metadata": {
    "collapsed": false
   },
   "outputs": [
    {
     "data": {
      "text/plain": [
       "0.66117038473973488"
      ]
     },
     "execution_count": 359,
     "metadata": {},
     "output_type": "execute_result"
    }
   ],
   "source": [
    "holdoutscore = rf5.score(Xhat1_test, yhat1_test)\n",
    "holdoutscore"
   ]
  },
  {
   "cell_type": "code",
   "execution_count": 360,
   "metadata": {
    "collapsed": false
   },
   "outputs": [
    {
     "name": "stdout",
     "output_type": "stream",
     "text": [
      "             precision    recall  f1-score   support\n",
      "\n",
      "          0       0.64      0.72      0.68      1526\n",
      "          1       0.69      0.60      0.64      1567\n",
      "\n",
      "avg / total       0.66      0.66      0.66      3093\n",
      "\n"
     ]
    }
   ],
   "source": [
    "print(metrics.classification_report(yhat1_test, rf5.predict(Xhat1_test))) #this is much more balanced"
   ]
  },
  {
   "cell_type": "code",
   "execution_count": 361,
   "metadata": {
    "collapsed": true
   },
   "outputs": [
    {
     "data": {
      "text/plain": [
       "[('PARTY_AGE', 0.26797391096427498),\n",
       " ('ACCIDENT_YEAR', 0.18817250507963723),\n",
       " ('HOUR', 0.17009615325053848),\n",
       " ('DAY_OF_WEEK', 0.094922891363407536),\n",
       " ('PARTY_COUNT', 0.038951298215926244),\n",
       " ('PARTY_SOBRIETY_A', 0.027914706165872522),\n",
       " ('NUMBER_INJURED', 0.022279007840084086),\n",
       " ('COUNT_MC_INJURED', 0.019888440038335647),\n",
       " ('SP_INFO_2_3', 0.01863649852925512),\n",
       " ('OAF_VIOL_CAT_- ', 0.0164643288281765),\n",
       " ('PARTY_SOBRIETY_B', 0.016068992600281821),\n",
       " ('ALCOHOL_INVOLVED_Y', 0.011848887277022654),\n",
       " ('SP_INFO_2_D', 0.01109178265334137),\n",
       " ('SP_INFO_2_C', 0.0093973717429787045),\n",
       " ('PARTY_SEX_M', 0.0073167204840010767),\n",
       " ('SP_INFO_2_-', 0.0065694981574035485),\n",
       " ('COUNT_MC_KILLED', 0.0055352939933328666),\n",
       " ('PARTY_SEX_F', 0.005357228331897607),\n",
       " ('OAF_VIOL_CAT_25', 0.0051177980267760031),\n",
       " ('NUMBER_KILLED', 0.0046546277998519205),\n",
       " ('OAF_VIOL_CAT_31', 0.0046237814993573762),\n",
       " ('TRUCK_ACCIDENT', 0.0043877790806520506),\n",
       " ('OAF_VIOL_CAT_44', 0.0032076059232145843),\n",
       " ('PARTY_SEX_-', 0.0031673281459144624),\n",
       " ('PARTY_SOBRIETY_C', 0.0031483300929621818),\n",
       " ('PARTY_DRUG_PHYSICAL_E', 0.0026703124324600792),\n",
       " ('PARTY_SOBRIETY_D', 0.0024725580477541181),\n",
       " ('OAF_VIOL_CAT_27', 0.0024704240954582981),\n",
       " ('PEDESTRIAN_ACCIDENT', 0.0024542319342635613),\n",
       " ('PARTY_SOBRIETY_G', 0.0022476802561155434),\n",
       " ('PARTY_DRUG_PHYSICAL_-', 0.0021358088789900113),\n",
       " ('PARTY_DRUG_PHYSICAL_G', 0.0018297930566241265),\n",
       " ('PARTY_SOBRIETY_H', 0.0017307219321648563),\n",
       " ('PARTY_SOBRIETY_-', 0.0015366606905123704),\n",
       " ('OAF_VIOL_CAT_47', 0.0014592021847364607),\n",
       " ('SP_INFO_2_2', 0.0011561862835226977),\n",
       " ('BICYCLE_ACCIDENT', 0.0011016961914067165),\n",
       " ('PARTY_DRUG_PHYSICAL_H', 0.0010095340998753422),\n",
       " ('OAF_VIOL_CAT_33', 0.00099020823684730828),\n",
       " ('OAF_VIOL_CAT_28', 0.00095786503711438819),\n",
       " ('OAF_VIOL_CAT_24', 0.00075812482241662742),\n",
       " ('OAF_VIOL_CAT_29', 0.00075472882864262303),\n",
       " ('OAF_VIOL_CAT_26', 0.00066991878862182586),\n",
       " ('SP_INFO_2_1', 0.00062684210491458013),\n",
       " ('OAF_VIOL_CAT_30', 0.0006102255289368824),\n",
       " ('OAF_VIOL_CAT_20', 0.00051866192130714897),\n",
       " ('OAF_VIOL_CAT_23', 0.00051510097994651033),\n",
       " ('PARTY_DRUG_PHYSICAL_I', 0.00039386734955438094),\n",
       " ('OAF_VIOL_CAT_00', 0.00030261575031073921),\n",
       " ('OAF_VIOL_CAT_19', 0.00029930436744665884),\n",
       " ('OAF_VIOL_CAT_39', 0.00028901330075222317),\n",
       " ('OAF_VIOL_CAT_60', 0.00027846572367348261),\n",
       " ('PARTY_DRUG_PHYSICAL_F', 0.00024335710067720115),\n",
       " ('OAF_VIOL_CAT_43', 0.00023140505726574251),\n",
       " ('OAF_VIOL_CAT_40', 0.00014003449955843377),\n",
       " ('OAF_VIOL_CAT_53', 0.00013459930343282154),\n",
       " ('OAF_VIOL_CAT_34', 8.527551315793326e-05),\n",
       " ('SP_INFO_2_B', 7.1198275225390701e-05),\n",
       " ('OAF_VIOL_CAT_22', 5.5270830941293425e-05),\n",
       " ('OAF_VIOL_CAT_46', 6.3405108751294506e-06),\n",
       " ('MOTORCYCLE_ACCIDENT', 0.0),\n",
       " ('OAF_VIOL_CAT_21', 0.0),\n",
       " ('OAF_VIOL_CAT_35', 0.0),\n",
       " ('OAF_VIOL_CAT_38', 0.0),\n",
       " ('OAF_VIOL_CAT_51', 0.0)]"
      ]
     },
     "execution_count": 361,
     "metadata": {},
     "output_type": "execute_result"
    }
   ],
   "source": [
    "sorted(zip(Xhat1.columns,abs(rf5.feature_importances_)), key=lambda x: -x[1])"
   ]
  },
  {
   "cell_type": "code",
   "execution_count": 416,
   "metadata": {
    "collapsed": false
   },
   "outputs": [
    {
     "data": {
      "text/plain": [
       "[<matplotlib.text.Text at 0x1780fe6a0>, <matplotlib.text.Text at 0x1a2ec4780>]"
      ]
     },
     "execution_count": 416,
     "metadata": {},
     "output_type": "execute_result"
    },
    {
     "data": {
      "image/png": "[encoded data removed]",
      "text/plain": [
       "<matplotlib.figure.Figure at 0x187367dd8>"
      ]
     },
     "metadata": {},
     "output_type": "display_data"
    }
   ],
   "source": [
    "ax = sns.barplot(x=df_agecorr.PARTY_SAFETY_EQUIP_2_V, y=df_agecorr.PARTY_SOBRIETY_B)\n",
    "ax.set(xlabel='Helmet?', ylabel='Likelihood of Alcohol Involved')\n",
    "ax.set_xticklabels(['Yes', 'No'])"
   ]
  },
  {
   "cell_type": "code",
   "execution_count": 412,
   "metadata": {
    "collapsed": false
   },
   "outputs": [
    {
     "data": {
      "text/plain": [
       "<matplotlib.axes._subplots.AxesSubplot at 0x1a3bae860>"
      ]
     },
     "execution_count": 412,
     "metadata": {},
     "output_type": "execute_result"
    },
    {
     "data": {
      "image/png": "[encoded data removed]",
      "text/plain": [
       "<matplotlib.figure.Figure at 0x1a3b8d5c0>"
      ]
     },
     "metadata": {},
     "output_type": "display_data"
    }
   ],
   "source": [
    "sns.barplot(x=df_agecorr.PARTY_SAFETY_EQUIP_2_V, y=df_agecorr.PARTY_DRUG_PHYSICAL_E)\n",
    "ax.set(xlabel='Helmet?', ylabel='Likelihood of Not Wearing Helmet')\n",
    "ax.set_xticklabels(['Yes', 'No'])"
   ]
  },
  {
   "cell_type": "code",
   "execution_count": 418,
   "metadata": {
    "collapsed": false
   },
   "outputs": [
    {
     "data": {
      "text/plain": [
       "[<matplotlib.text.Text at 0x1780b0a58>, <matplotlib.text.Text at 0x1a0e89b38>]"
      ]
     },
     "execution_count": 418,
     "metadata": {},
     "output_type": "execute_result"
    },
    {
     "data": {
      "image/png": "[encoded data removed]",
      "text/plain": [
       "<matplotlib.figure.Figure at 0x120219278>"
      ]
     },
     "metadata": {},
     "output_type": "display_data"
    }
   ],
   "source": [
    "ax= sns.barplot(x=df_agecorr.PARTY_SAFETY_EQUIP_2_V, y=df_agecorr.OAF_VIOL_CAT_25)\n",
    "ax.set(xlabel='Helmet?', ylabel='Likelihood of Citation for Unsafe Speed')\n",
    "ax.set_xticklabels(['Yes', 'No'])"
   ]
  },
  {
   "cell_type": "markdown",
   "metadata": {},
   "source": [
    "### 50-50 class split model for fatalities"
   ]
  },
  {
   "cell_type": "code",
   "execution_count": 376,
   "metadata": {
    "collapsed": false
   },
   "outputs": [
    {
     "data": {
      "text/plain": [
       "0.0    193427\n",
       "1.0      6600\n",
       "2.0       174\n",
       "5.0         6\n",
       "3.0         6\n",
       "4.0         1\n",
       "Name: NUMBER_KILLED, dtype: int64"
      ]
     },
     "execution_count": 376,
     "metadata": {},
     "output_type": "execute_result"
    }
   ],
   "source": [
    "df_agecorr.NUMBER_KILLED.value_counts()"
   ]
  },
  {
   "cell_type": "code",
   "execution_count": 389,
   "metadata": {
    "collapsed": true
   },
   "outputs": [],
   "source": [
    "NK_indices = df_agecorr[df_agecorr.NUMBER_KILLED == 0].index\n",
    "random_indices = np.random.choice(NK_indices, 6600, replace=False)\n",
    "NK_sample = df_agecorr.loc[random_indices]"
   ]
  },
  {
   "cell_type": "code",
   "execution_count": 390,
   "metadata": {
    "collapsed": true
   },
   "outputs": [],
   "source": [
    "K_indices = df_agecorr[df_agecorr.NUMBER_KILLED == 1].index\n",
    "K_sample = df_agecorr.loc[K_indices]"
   ]
  },
  {
   "cell_type": "code",
   "execution_count": 391,
   "metadata": {
    "collapsed": true
   },
   "outputs": [],
   "source": [
    "for_model2 = NK_sample.append(K_sample)"
   ]
  },
  {
   "cell_type": "code",
   "execution_count": 392,
   "metadata": {
    "collapsed": false
   },
   "outputs": [],
   "source": [
    "Xkp,ykp = for_model2.drop(['COUNT_MC_KILLED', 'COUNT_MC_INJURED', 'NUMBER_INJURED', 'CASE_ID_x', 'NUMBER_KILLED', 'COLLISION_DATE'], axis=1),for_model2['NUMBER_KILLED']"
   ]
  },
  {
   "cell_type": "code",
   "execution_count": 393,
   "metadata": {
    "collapsed": true
   },
   "outputs": [],
   "source": [
    "Xkp_train, Xkp_test, ykp_train, ykp_test = train_test_split(Xkp, ykp, test_size=0.3)"
   ]
  },
  {
   "cell_type": "code",
   "execution_count": 394,
   "metadata": {
    "collapsed": true
   },
   "outputs": [],
   "source": [
    "rf6 = RandomForestClassifier()"
   ]
  },
  {
   "cell_type": "code",
   "execution_count": 395,
   "metadata": {
    "collapsed": false
   },
   "outputs": [
    {
     "data": {
      "text/plain": [
       "RandomForestClassifier(bootstrap=True, class_weight=None, criterion='gini',\n",
       "            max_depth=None, max_features='auto', max_leaf_nodes=None,\n",
       "            min_impurity_split=1e-07, min_samples_leaf=1,\n",
       "            min_samples_split=2, min_weight_fraction_leaf=0.0,\n",
       "            n_estimators=10, n_jobs=1, oob_score=False, random_state=None,\n",
       "            verbose=0, warm_start=False)"
      ]
     },
     "execution_count": 395,
     "metadata": {},
     "output_type": "execute_result"
    }
   ],
   "source": [
    "rf6.fit(Xkp_train,ykp_train)"
   ]
  },
  {
   "cell_type": "code",
   "execution_count": 396,
   "metadata": {
    "collapsed": false
   },
   "outputs": [
    {
     "data": {
      "text/plain": [
       "0.98452380952380958"
      ]
     },
     "execution_count": 396,
     "metadata": {},
     "output_type": "execute_result"
    }
   ],
   "source": [
    "nocrossvalscore= rf6.score(Xkp_train,ykp_train)\n",
    "nocrossvalscore"
   ]
  },
  {
   "cell_type": "code",
   "execution_count": 397,
   "metadata": {
    "collapsed": false
   },
   "outputs": [
    {
     "data": {
      "text/plain": [
       "0.74191919191919187"
      ]
     },
     "execution_count": 397,
     "metadata": {},
     "output_type": "execute_result"
    }
   ],
   "source": [
    "holdoutscore = rf6.score(Xkp_test, ykp_test)\n",
    "holdoutscore"
   ]
  },
  {
   "cell_type": "code",
   "execution_count": 398,
   "metadata": {
    "collapsed": false
   },
   "outputs": [
    {
     "name": "stdout",
     "output_type": "stream",
     "text": [
      "             precision    recall  f1-score   support\n",
      "\n",
      "        0.0       0.72      0.79      0.76      1990\n",
      "        1.0       0.77      0.69      0.73      1970\n",
      "\n",
      "avg / total       0.74      0.74      0.74      3960\n",
      "\n"
     ]
    }
   ],
   "source": [
    "print(metrics.classification_report(ykp_test, rf6.predict(Xkp_test))) #again, much more balanced"
   ]
  },
  {
   "cell_type": "code",
   "execution_count": 399,
   "metadata": {
    "collapsed": true
   },
   "outputs": [
    {
     "data": {
      "text/plain": [
       "[('PARTY_AGE', 0.13034564425363718),\n",
       " ('HOUR', 0.10216883954347837),\n",
       " ('ACCIDENT_YEAR', 0.090215141441094202),\n",
       " ('DAY_OF_WEEK', 0.067593744083343316),\n",
       " ('PARTY_DRUG_PHYSICAL_-', 0.052022389157171112),\n",
       " ('PARTY_DRUG_PHYSICAL_E', 0.045555105828757748),\n",
       " ('PARTY_SOBRIETY_A', 0.039740277010003731),\n",
       " ('OAF_VIOL_CAT_- ', 0.030751785087200806),\n",
       " ('PARTY_COUNT', 0.027419204978596436),\n",
       " ('PARTY_NUMBER', 0.018642263378822528),\n",
       " ('ALCOHOL_INVOLVED_Y', 0.018469638845566867),\n",
       " ('MVIW_I', 0.018449234244824222),\n",
       " ('AT_FAULT', 0.015900842794819355),\n",
       " ('TRUCK_ACCIDENT', 0.01430899593035603),\n",
       " ('PARTY_SOBRIETY_B', 0.013858177638701416),\n",
       " ('LIGHTING_A', 0.012845858949300501),\n",
       " ('PARTY_DRUG_PHYSICAL_G', 0.012034057677667759),\n",
       " ('PARTY_SAFETY_EQUIP_2_W', 0.011962500474685268),\n",
       " ('OAF_VIOL_CAT_25', 0.011378911334473434),\n",
       " ('LIGHTING_D', 0.010540730020270074),\n",
       " ('SP_INFO_2_-', 0.010392868656287241),\n",
       " ('MVIW_C', 0.010243832323292609),\n",
       " ('PARTY_SOBRIETY_G', 0.010005169522775656),\n",
       " ('PARTY_SAFETY_EQUIP_1_P', 0.0097163123913165846),\n",
       " ('SP_INFO_2_3', 0.0092833063081347537),\n",
       " ('LIGHTING_C', 0.0088732963376369732),\n",
       " ('MVIW_A', 0.0087389948905718072),\n",
       " ('WEATHER_1_B', 0.008205933565878256),\n",
       " ('PARTY_SAFETY_EQUIP_1_M', 0.0080715145128741356),\n",
       " ('PARTY_SAFETY_EQUIP_1_-', 0.0074492700516135425),\n",
       " ('PARTY_SEX_M', 0.007402366092424938),\n",
       " ('WEATHER_1_A', 0.0072459921433877207),\n",
       " ('PARTY_SEX_F', 0.006825916888827931),\n",
       " ('PARTY_SAFETY_EQUIP_2_-', 0.0067613100883659226),\n",
       " ('PARTY_SAFETY_EQUIP_2_V', 0.006229710321371788),\n",
       " ('ROAD_COND_1_H', 0.0056153736110321813),\n",
       " ('PARTY_SOBRIETY_D', 0.0052884749002446293),\n",
       " ('PARTY_SAFETY_EQUIP_1_W', 0.0052510395343649281),\n",
       " ('PARTY_SEX_-', 0.0052118259625069385),\n",
       " ('SP_INFO_2_D', 0.0049074151418036218),\n",
       " ('PARTY_SAFETY_EQUIP_2_G', 0.0048637382921071608),\n",
       " ('LIGHTING_B', 0.0047123776318907067),\n",
       " ('PRIMARY_COLL_FACTOR_A', 0.0043475589738363896),\n",
       " ('SP_INFO_2_C', 0.0038729201230456693),\n",
       " ('PARTY_SOBRIETY_-', 0.0038229708619894687),\n",
       " ('PARTY_SAFETY_EQUIP_2_A', 0.0034658472958436813),\n",
       " ('MVIW_E', 0.0032920923745444835),\n",
       " ('PARTY_SAFETY_EQUIP_1_A', 0.0032283825891497391),\n",
       " ('OAF_VIOL_CAT_27', 0.0032006861859299129),\n",
       " ('OAF_VIOL_CAT_31', 0.0030960224029470984),\n",
       " ('MVIW_J', 0.0029971035500386545),\n",
       " ('PRIMARY_COLL_FACTOR_C', 0.0026426493398478373),\n",
       " ('PARTY_SOBRIETY_H', 0.0026376664906581082),\n",
       " ('PARTY_SAFETY_EQUIP_1_N', 0.0025998062709580764),\n",
       " ('ROAD_SURFACE_A', 0.0024996786665704663),\n",
       " ('PARTY_SOBRIETY_C', 0.0023183171300779379),\n",
       " ('PEDESTRIAN_ACCIDENT', 0.0023007244911129017),\n",
       " ('ROAD_COND_1_D', 0.0022547197488183924),\n",
       " ('PARTY_SAFETY_EQUIP_1_V', 0.0020929754367650004),\n",
       " ('ROAD_SURFACE_B', 0.0020703656806863582),\n",
       " ('PRIMARY_COLL_FACTOR_D', 0.001883544634529468),\n",
       " ('PARTY_SAFETY_EQUIP_2_B', 0.0018265695047986461),\n",
       " ('MVIW_D', 0.0016662654445646654),\n",
       " ('MVIW_B', 0.00163369364405112),\n",
       " ('PARTY_SAFETY_EQUIP_1_B', 0.0015218042965027753),\n",
       " ('PARTY_SAFETY_EQUIP_1_G', 0.0015052069014551391),\n",
       " ('PRIMARY_COLL_FACTOR_-', 0.0014856243148235458),\n",
       " ('ROAD_COND_1_B', 0.0014760552628521899),\n",
       " ('PARTY_SAFETY_EQUIP_1_L', 0.0014652718421809285),\n",
       " ('OAF_VIOL_CAT_47', 0.0013022078252790139),\n",
       " ('SP_INFO_2_2', 0.0012688593955440116),\n",
       " ('MVIW_-', 0.0011515237484060116),\n",
       " ('OAF_VIOL_CAT_20', 0.0011161418208542888),\n",
       " ('ROAD_COND_1_C', 0.0010923086195871166),\n",
       " ('WEATHER_1_E', 0.0010390721136829648),\n",
       " ('ROAD_SURFACE_-', 0.0010114998756512057),\n",
       " ('ROAD_COND_1_G', 0.0009804653783497771),\n",
       " ('OAF_VIOL_CAT_44', 0.00097085868364501593),\n",
       " ('BICYCLE_ACCIDENT', 0.00095174087109730634),\n",
       " ('PRIMARY_COLL_FACTOR_B', 0.0009031986085769883),\n",
       " ('PARTY_DRUG_PHYSICAL_H', 0.0008733050205440813),\n",
       " ('ROAD_COND_1_A', 0.00082872447940975579),\n",
       " ('MVIW_H', 0.00082484684306676197),\n",
       " ('WEATHER_1_C', 0.0008233479148974796),\n",
       " ('ROAD_COND_1_-', 0.00079023967487685393),\n",
       " ('OAF_VIOL_CAT_29', 0.00078097168537089696),\n",
       " ('PARTY_SAFETY_EQUIP_2_P', 0.00074211348565858353),\n",
       " ('OAF_VIOL_CAT_30', 0.00073841372112697177),\n",
       " ('LIGHTING_-', 0.0007231021809160007),\n",
       " ('MVIW_G', 0.00070839407036405496),\n",
       " ('WEATHER_1_-', 0.0005385747615917262),\n",
       " ('LIGHTING_E', 0.00053699058960686159),\n",
       " ('PARTY_DRUG_PHYSICAL_F', 0.00050416987579959122),\n",
       " ('PARTY_SAFETY_EQUIP_2_Y', 0.00049863675061379595),\n",
       " ('PARTY_SAFETY_EQUIP_2_H', 0.00047784978056053605),\n",
       " ('OAF_VIOL_CAT_43', 0.00046914083926674941),\n",
       " ('OAF_VIOL_CAT_33', 0.00046338680756587294),\n",
       " ('OAF_VIOL_CAT_26', 0.00035488863661955799),\n",
       " ('OAF_VIOL_CAT_00', 0.00033421774485921406),\n",
       " ('OAF_VIOL_CAT_19', 0.0003139894093011941),\n",
       " ('ROAD_SURFACE_D', 0.00026269198908956238),\n",
       " ('OAF_VIOL_CAT_28', 0.00023314701800683057),\n",
       " ('ROAD_COND_1_E', 0.00020851051693080415),\n",
       " ('OAF_VIOL_CAT_60', 0.00018735691325226874),\n",
       " ('OAF_VIOL_CAT_23', 0.00018385979041658088),\n",
       " ('OAF_VIOL_CAT_24', 0.0001814639700756458),\n",
       " ('PARTY_SAFETY_EQUIP_2_N', 0.00016805317046820345),\n",
       " ('SP_INFO_2_B', 0.00015950428139235162),\n",
       " ('PARTY_DRUG_PHYSICAL_I', 0.0001365000289165964),\n",
       " ('OAF_VIOL_CAT_53', 0.00013038612651346157),\n",
       " ('PARTY_SAFETY_EQUIP_1_K', 0.00012643808677445905),\n",
       " ('PARTY_SAFETY_EQUIP_2_E', 0.00011914873848082776),\n",
       " ('SP_INFO_2_1', 0.00011361149533016795),\n",
       " ('WEATHER_1_F', 0.0001065176167221211),\n",
       " ('PARTY_SAFETY_EQUIP_2_F', 0.00010479995077142853),\n",
       " ('PARTY_SAFETY_EQUIP_1_H', 0.00010300555602071671),\n",
       " ('PARTY_SAFETY_EQUIP_2_Q', 8.4521344169570582e-05),\n",
       " ('PARTY_SAFETY_EQUIP_1_Y', 7.5867877046421149e-05),\n",
       " ('OAF_VIOL_CAT_22', 7.3214003132484581e-05),\n",
       " ('PARTY_SAFETY_EQUIP_2_C', 6.0722414535169773e-05),\n",
       " ('OAF_VIOL_CAT_21', 5.4165139019114871e-05),\n",
       " ('PARTY_SAFETY_EQUIP_2_M', 5.2823912754718357e-05),\n",
       " ('ROAD_COND_1_F', 4.7627984885103638e-05),\n",
       " ('PARTY_SAFETY_EQUIP_1_C', 4.17083552075694e-05),\n",
       " ('WEATHER_1_D', 3.2483993313078567e-05),\n",
       " ('PARTY_SAFETY_EQUIP_1_Q', 2.9672407171673253e-05),\n",
       " ('OAF_VIOL_CAT_34', 2.4181900161260162e-05),\n",
       " ('PARTY_SAFETY_EQUIP_2_J', 2.3277955616745157e-05),\n",
       " ('OAF_VIOL_CAT_40', 2.1402788668616433e-05),\n",
       " ('WEATHER_1_G', 1.5845504693761099e-05),\n",
       " ('MVIW_F', 9.0973318461552855e-06),\n",
       " ('PARTY_SAFETY_EQUIP_2_D', 3.4676080581526678e-06),\n",
       " ('PARTY_SAFETY_EQUIP_1_U', 3.0940071893476135e-06),\n",
       " ('PARTY_SAFETY_EQUIP_1_D', 1.8509798406486132e-06),\n",
       " ('ROAD_SURFACE_C', 1.5341615143972887e-06),\n",
       " ('PARTY_SAFETY_EQUIP_1_F', 9.6489294366674515e-07),\n",
       " ('PARTY_SAFETY_EQUIP_2_U', 3.9367632101603773e-07),\n",
       " ('MOTORCYCLE_ACCIDENT', 0.0),\n",
       " ('PARTY_SAFETY_EQUIP_1_E', 0.0),\n",
       " ('PARTY_SAFETY_EQUIP_1_J', 0.0),\n",
       " ('PARTY_SAFETY_EQUIP_1_R', 0.0),\n",
       " ('PARTY_SAFETY_EQUIP_1_S', 0.0),\n",
       " ('PARTY_SAFETY_EQUIP_1_T', 0.0),\n",
       " ('PARTY_SAFETY_EQUIP_1_X', 0.0),\n",
       " ('PARTY_SAFETY_EQUIP_2_K', 0.0),\n",
       " ('PARTY_SAFETY_EQUIP_2_L', 0.0),\n",
       " ('PARTY_SAFETY_EQUIP_2_R', 0.0),\n",
       " ('PARTY_SAFETY_EQUIP_2_S', 0.0),\n",
       " ('PARTY_SAFETY_EQUIP_2_T', 0.0),\n",
       " ('PARTY_SAFETY_EQUIP_2_X', 0.0),\n",
       " ('OAF_VIOL_CAT_35', 0.0),\n",
       " ('OAF_VIOL_CAT_38', 0.0),\n",
       " ('OAF_VIOL_CAT_39', 0.0),\n",
       " ('OAF_VIOL_CAT_46', 0.0),\n",
       " ('OAF_VIOL_CAT_51', 0.0),\n",
       " ('PRIMARY_COLL_FACTOR_E', 0.0)]"
      ]
     },
     "execution_count": 399,
     "metadata": {},
     "output_type": "execute_result"
    }
   ],
   "source": [
    "sorted(zip(Xkp.columns,abs(rf6.feature_importances_)), key=lambda x: -x[1])"
   ]
  },
  {
   "cell_type": "code",
   "execution_count": 363,
   "metadata": {
    "collapsed": false
   },
   "outputs": [
    {
     "data": {
      "image/png": "[encoded data removed]",
      "text/plain": [
       "<matplotlib.figure.Figure at 0x17e44dac8>"
      ]
     },
     "metadata": {},
     "output_type": "display_data"
    }
   ],
   "source": [
    "plt.figure(figsize=(15,8))\n",
    "ax = sns.barplot(x=df_agecorr.ACCIDENT_YEAR, y=df_agecorr.PARTY_SAFETY_EQUIP_2_V) \n",
    "#clearly they just started coding this feature in 2004; that isn't very useful or important despite showing up high\n",
    "#in the feature importances"
   ]
  },
  {
   "cell_type": "code",
   "execution_count": 403,
   "metadata": {
    "collapsed": false
   },
   "outputs": [
    {
     "data": {
      "text/plain": [
       "[<matplotlib.text.Text at 0x1a33772e8>, <matplotlib.text.Text at 0x1876fac18>]"
      ]
     },
     "execution_count": 403,
     "metadata": {},
     "output_type": "execute_result"
    },
    {
     "data": {
      "image/png": "[encoded data removed]",
      "text/plain": [
       "<matplotlib.figure.Figure at 0x1a2ecef60>"
      ]
     },
     "metadata": {},
     "output_type": "display_data"
    }
   ],
   "source": [
    "plt.figure(figsize=(15,8))\n",
    "colors = ['#76D7C4', '#76D7C4', '#76D7C4', '#76D7C4', '#76D7C4', '#FF8A65', '#FF8A65']\n",
    "\n",
    "ax = sns.barplot(x=df_agecorr.DAY_OF_WEEK, y=df_agecorr.NUMBER_KILLED, palette=colors)\n",
    "ax.set(xlabel='Day of Week', ylabel='Likelihood of Fatality')"
   ]
  },
  {
   "cell_type": "code",
   "execution_count": 419,
   "metadata": {
    "collapsed": false
   },
   "outputs": [
    {
     "data": {
      "text/plain": [
       "[<matplotlib.text.Text at 0x1a0f2f550>, <matplotlib.text.Text at 0x178082358>]"
      ]
     },
     "execution_count": 419,
     "metadata": {},
     "output_type": "execute_result"
    },
    {
     "data": {
      "image/png": "[encoded data removed]",
      "text/plain": [
       "<matplotlib.figure.Figure at 0x1780ae198>"
      ]
     },
     "metadata": {},
     "output_type": "display_data"
    }
   ],
   "source": [
    "plt.figure(figsize=(15,8))\n",
    "ax = sns.barplot(x=df_agecorr.DAY_OF_WEEK, y=df_agecorr.PARTY_SAFETY_EQUIP_2_V, palette=colors)\n",
    "ax.set(xlabel='Day of Week', ylabel='Likelihood of Not Wearing Helmet')"
   ]
  },
  {
   "cell_type": "code",
   "execution_count": 455,
   "metadata": {
    "collapsed": false
   },
   "outputs": [
    {
     "data": {
      "text/plain": [
       "[<matplotlib.text.Text at 0x17ee8a0b8>, <matplotlib.text.Text at 0x17ee96320>]"
      ]
     },
     "execution_count": 455,
     "metadata": {},
     "output_type": "execute_result"
    },
    {
     "data": {
      "image/png": "[encoded data removed]",
      "text/plain": [
       "<matplotlib.figure.Figure at 0x17807a710>"
      ]
     },
     "metadata": {},
     "output_type": "display_data"
    }
   ],
   "source": [
    "ax = sns.barplot(x=df_agecorr.ALCOHOL_INVOLVED_Y, y=df_agecorr.NUMBER_KILLED)\n",
    "ax.set(xlabel='Alcohol Involved?', ylabel='Likelihood of Fatality')\n",
    "ax.set_xticklabels(['No', 'Yes'])\n",
    "#this speaks, again, to the important difference between using data models to drive decision-making behavior vs\n",
    "#using data models to predict outcomes: although alcohol_involved doesn't come up terribly highly in the feature\n",
    "#importances ranking, it clearly does have an impact when you look at class means - see blog writeup for more"
   ]
  }
 ],
 "metadata": {
  "kernelspec": {
   "display_name": "Python 3",
   "language": "python",
   "name": "python3"
  },
  "language_info": {
   "codemirror_mode": {
    "name": "ipython",
    "version": 3
   },
   "file_extension": ".py",
   "mimetype": "text/x-python",
   "name": "python",
   "nbconvert_exporter": "python",
   "pygments_lexer": "ipython3",
   "version": "3.6.0"
  }
 },
 "nbformat": 4,
 "nbformat_minor": 2
}
