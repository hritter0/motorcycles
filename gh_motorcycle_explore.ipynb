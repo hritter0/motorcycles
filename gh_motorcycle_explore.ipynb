{
 "cells": [
  {
   "cell_type": "code",
   "execution_count": 1,
   "metadata": {
    "collapsed": false
   },
   "outputs": [
    {
     "name": "stderr",
     "output_type": "stream",
     "text": [
      "/Users/hritter/anaconda/lib/python3.6/site-packages/sklearn/cross_validation.py:44: DeprecationWarning: This module was deprecated in version 0.18 in favor of the model_selection module into which all the refactored classes and functions are moved. Also note that the interface of the new CV iterators are different from that of this module. This module will be removed in 0.20.\n",
      "  \"This module will be removed in 0.20.\", DeprecationWarning)\n"
     ]
    }
   ],
   "source": [
    "import pandas as pd\n",
    "import numpy as np\n",
    "%matplotlib inline\n",
    "import matplotlib.pyplot as plt\n",
    "import seaborn as sns\n",
    "from sklearn.linear_model import LinearRegression\n",
    "from sklearn import metrics\n",
    "from sklearn.ensemble import RandomForestRegressor, GradientBoostingRegressor, RandomForestClassifier\n",
    "from sklearn.preprocessing import PolynomialFeatures\n",
    "from sklearn.pipeline import make_pipeline\n",
    "from sklearn.model_selection import cross_val_score\n",
    "from sklearn.model_selection import cross_val_predict\n",
    "from sklearn.cross_validation import train_test_split\n",
    "from sklearn.cross_validation import KFold\n",
    "from sklearn.externals import joblib\n",
    "from collections import Counter"
   ]
  },
  {
   "cell_type": "markdown",
   "metadata": {},
   "source": [
    "Note to reader: This is a nearly-unaltered line-by-line functional data cleaning, faithful to how I actually completed this work, not trying to be tidy or clever for an audience. It is not particularly interesting, nor especially easy to follow. It includes a lot of calls to .info() and .value_counts(), usually to check the number or type of data in a column to better understand the data set or to later make some functional change to those values."
   ]
  },
  {
   "cell_type": "markdown",
   "metadata": {},
   "source": [
    "The interpretation of this coded data is available on the SWIRTS website, and a copy is in this github repository for reference."
   ]
  },
  {
   "cell_type": "markdown",
   "metadata": {},
   "source": [
    "### Creating Dataframe: Merging collisions and parties data, filtering on \"motorcycles involved\""
   ]
  },
  {
   "cell_type": "code",
   "execution_count": 5,
   "metadata": {
    "collapsed": false
   },
   "outputs": [],
   "source": [
    "parties = pd.read_pickle('parties.pkl')"
   ]
  },
  {
   "cell_type": "code",
   "execution_count": 6,
   "metadata": {
    "collapsed": false
   },
   "outputs": [],
   "source": [
    "collisions = pd.read_msgpack('collisions.msg')"
   ]
  },
  {
   "cell_type": "code",
   "execution_count": 46,
   "metadata": {
    "collapsed": false
   },
   "outputs": [
    {
     "name": "stdout",
     "output_type": "stream",
     "text": [
      "<class 'pandas.core.frame.DataFrame'>\n",
      "RangeIndex: 14851757 entries, 0 to 14851756\n",
      "Data columns (total 20 columns):\n",
      "CASE_ID                 object\n",
      "PARTY_NUMBER            int64\n",
      "PARTY_TYPE              object\n",
      "AT_FAULT                object\n",
      "PARTY_SEX               object\n",
      "PARTY_AGE               int64\n",
      "PARTY_SOBRIETY          object\n",
      "PARTY_DRUG_PHYSICAL     object\n",
      "PARTY_SAFETY_EQUIP_1    object\n",
      "PARTY_SAFETY_EQUIP_2    object\n",
      "SP_INFO_2               object\n",
      "OAF_VIOL_CAT            object\n",
      "OAF_1                   object\n",
      "OAF_2                   object\n",
      "PARTY_NUMBER_KILLED     int64\n",
      "PARTY_NUMBER_INJURED    int64\n",
      "MOVE_PRE_ACC            object\n",
      "VEHICLE_YEAR            float64\n",
      "STWD_VEHICLE_TYPE       object\n",
      "INATTENTION             object\n",
      "dtypes: float64(1), int64(4), object(15)\n",
      "memory usage: 2.2+ GB\n"
     ]
    }
   ],
   "source": [
    "parties.info()"
   ]
  },
  {
   "cell_type": "code",
   "execution_count": 44,
   "metadata": {
    "collapsed": false
   },
   "outputs": [],
   "source": [
    "parties.CASE_ID = parties.CASE_ID.astype(str)"
   ]
  },
  {
   "cell_type": "code",
   "execution_count": 51,
   "metadata": {
    "collapsed": true
   },
   "outputs": [],
   "source": [
    "collisions.CASE_ID = collisions.CASE_ID.astype(str)"
   ]
  },
  {
   "cell_type": "code",
   "execution_count": 47,
   "metadata": {
    "collapsed": false
   },
   "outputs": [
    {
     "name": "stdout",
     "output_type": "stream",
     "text": [
      "<class 'pandas.core.frame.DataFrame'>\n",
      "Int64Index: 6982242 entries, 522562 to 7504808\n",
      "Data columns (total 43 columns):\n",
      "CASE_ID                    object\n",
      "ACCIDENT_YEAR              int64\n",
      "COLLISION_DATE             int64\n",
      "COLLISION_TIME             int64\n",
      "DAY_OF_WEEK                int64\n",
      "INTERSECTION               object\n",
      "WEATHER_1                  object\n",
      "WEATHER_2                  object\n",
      "LOCATION_TYPE              object\n",
      "RAMP_INTERSECTION          object\n",
      "COLLISION_SEVERITY         int64\n",
      "NUMBER_KILLED              float64\n",
      "NUMBER_INJURED             float64\n",
      "PARTY_COUNT                int64\n",
      "PRIMARY_COLL_FACTOR        object\n",
      "PCF_CODE_OF_VIOL           object\n",
      "PCF_VIOL_CATEGORY          object\n",
      "PCF_VIOLATION              object\n",
      "PCF_VIOL_SUBSECTION        object\n",
      "TYPE_OF_COLLISION          object\n",
      "MVIW                       object\n",
      "PED_ACTION                 object\n",
      "ROAD_SURFACE               object\n",
      "ROAD_COND_1                object\n",
      "ROAD_COND_2                object\n",
      "LIGHTING                   object\n",
      "PEDESTRIAN_ACCIDENT        object\n",
      "BICYCLE_ACCIDENT           object\n",
      "MOTORCYCLE_ACCIDENT        object\n",
      "TRUCK_ACCIDENT             object\n",
      "NOT_PRIVATE_PROPERTY       object\n",
      "ALCOHOL_INVOLVED           object\n",
      "STWD_VEHTYPE_AT_FAULT      object\n",
      "CHP_VEHTYPE_AT_FAULT       object\n",
      "COUNT_SEVERE_INJ           int64\n",
      "COUNT_VISIBLE_INJ          int64\n",
      "COUNT_COMPLAINT_PAIN       int64\n",
      "COUNT_PED_KILLED           int64\n",
      "COUNT_PED_INJURED          int64\n",
      "COUNT_BICYCLIST_KILLED     int64\n",
      "COUNT_BICYCLIST_INJURED    int64\n",
      "COUNT_MC_KILLED            int64\n",
      "COUNT_MC_INJURED           int64\n",
      "dtypes: float64(2), int64(15), object(26)\n",
      "memory usage: 2.3+ GB\n"
     ]
    }
   ],
   "source": [
    "collisions.info()"
   ]
  },
  {
   "cell_type": "code",
   "execution_count": 52,
   "metadata": {
    "collapsed": true
   },
   "outputs": [],
   "source": [
    "cycle_collisions = collisions[collisions['MOTORCYCLE_ACCIDENT'] == 'Y']"
   ]
  },
  {
   "cell_type": "code",
   "execution_count": 55,
   "metadata": {
    "collapsed": false
   },
   "outputs": [],
   "source": [
    "cycle_acc = parties.merge(cycle_collisions, how='left', left_on=parties.CASE_ID, right_on=cycle_collisions.CASE_ID)"
   ]
  },
  {
   "cell_type": "code",
   "execution_count": 56,
   "metadata": {
    "collapsed": false
   },
   "outputs": [
    {
     "data": {
      "text/plain": [
       "CASE_ID_x                  14851757\n",
       "PARTY_NUMBER               14851757\n",
       "PARTY_TYPE                 14851757\n",
       "AT_FAULT                   14851757\n",
       "PARTY_SEX                  14851757\n",
       "PARTY_AGE                  14851757\n",
       "PARTY_SOBRIETY             14851757\n",
       "PARTY_DRUG_PHYSICAL        14779340\n",
       "PARTY_SAFETY_EQUIP_1       14851757\n",
       "PARTY_SAFETY_EQUIP_2       13814531\n",
       "SP_INFO_2                  14851757\n",
       "OAF_VIOL_CAT               14851757\n",
       "OAF_1                      14851757\n",
       "OAF_2                      14851757\n",
       "PARTY_NUMBER_KILLED        14851757\n",
       "PARTY_NUMBER_INJURED       14851757\n",
       "MOVE_PRE_ACC               14851757\n",
       "VEHICLE_YEAR               13551488\n",
       "STWD_VEHICLE_TYPE          14851757\n",
       "INATTENTION                  540260\n",
       "CASE_ID_y                    362366\n",
       "ACCIDENT_YEAR                362366\n",
       "COLLISION_DATE               362366\n",
       "COLLISION_TIME               362366\n",
       "DAY_OF_WEEK                  362366\n",
       "INTERSECTION                 362366\n",
       "WEATHER_1                    362366\n",
       "WEATHER_2                    362366\n",
       "LOCATION_TYPE                127925\n",
       "RAMP_INTERSECTION            127925\n",
       "                             ...   \n",
       "PARTY_COUNT                  362366\n",
       "PRIMARY_COLL_FACTOR          362366\n",
       "PCF_CODE_OF_VIOL             362366\n",
       "PCF_VIOL_CATEGORY            362366\n",
       "PCF_VIOLATION                340381\n",
       "PCF_VIOL_SUBSECTION          153277\n",
       "TYPE_OF_COLLISION            362366\n",
       "MVIW                         362366\n",
       "PED_ACTION                   362366\n",
       "ROAD_SURFACE                 362366\n",
       "ROAD_COND_1                  362366\n",
       "ROAD_COND_2                  362366\n",
       "LIGHTING                     362366\n",
       "PEDESTRIAN_ACCIDENT            3821\n",
       "BICYCLE_ACCIDENT               2251\n",
       "MOTORCYCLE_ACCIDENT          362366\n",
       "TRUCK_ACCIDENT                 7749\n",
       "NOT_PRIVATE_PROPERTY         362366\n",
       "ALCOHOL_INVOLVED              28418\n",
       "STWD_VEHTYPE_AT_FAULT        362366\n",
       "CHP_VEHTYPE_AT_FAULT         320990\n",
       "COUNT_SEVERE_INJ             362366\n",
       "COUNT_VISIBLE_INJ            362366\n",
       "COUNT_COMPLAINT_PAIN         362366\n",
       "COUNT_PED_KILLED             362366\n",
       "COUNT_PED_INJURED            362366\n",
       "COUNT_BICYCLIST_KILLED       362366\n",
       "COUNT_BICYCLIST_INJURED      362366\n",
       "COUNT_MC_KILLED              362366\n",
       "COUNT_MC_INJURED             362366\n",
       "dtype: int64"
      ]
     },
     "execution_count": 56,
     "metadata": {},
     "output_type": "execute_result"
    }
   ],
   "source": [
    "cycle_acc.count()"
   ]
  },
  {
   "cell_type": "code",
   "execution_count": 57,
   "metadata": {
    "collapsed": true
   },
   "outputs": [],
   "source": [
    "cycle_acc1 = cycle_acc[cycle_acc['MOTORCYCLE_ACCIDENT'] == 'Y']"
   ]
  },
  {
   "cell_type": "code",
   "execution_count": 58,
   "metadata": {
    "collapsed": false
   },
   "outputs": [
    {
     "name": "stdout",
     "output_type": "stream",
     "text": [
      "<class 'pandas.core.frame.DataFrame'>\n",
      "Int64Index: 362366 entries, 3462 to 14424929\n",
      "Data columns (total 63 columns):\n",
      "CASE_ID_x                  362366 non-null object\n",
      "PARTY_NUMBER               362366 non-null int64\n",
      "PARTY_TYPE                 362366 non-null object\n",
      "AT_FAULT                   362366 non-null object\n",
      "PARTY_SEX                  362366 non-null object\n",
      "PARTY_AGE                  362366 non-null int64\n",
      "PARTY_SOBRIETY             362366 non-null object\n",
      "PARTY_DRUG_PHYSICAL        360916 non-null object\n",
      "PARTY_SAFETY_EQUIP_1       362366 non-null object\n",
      "PARTY_SAFETY_EQUIP_2       362366 non-null object\n",
      "SP_INFO_2                  362366 non-null object\n",
      "OAF_VIOL_CAT               362366 non-null object\n",
      "OAF_1                      362366 non-null object\n",
      "OAF_2                      362366 non-null object\n",
      "PARTY_NUMBER_KILLED        362366 non-null int64\n",
      "PARTY_NUMBER_INJURED       362366 non-null int64\n",
      "MOVE_PRE_ACC               362366 non-null object\n",
      "VEHICLE_YEAR               339677 non-null float64\n",
      "STWD_VEHICLE_TYPE          362366 non-null object\n",
      "INATTENTION                7490 non-null object\n",
      "CASE_ID_y                  362366 non-null object\n",
      "ACCIDENT_YEAR              362366 non-null float64\n",
      "COLLISION_DATE             362366 non-null float64\n",
      "COLLISION_TIME             362366 non-null float64\n",
      "DAY_OF_WEEK                362366 non-null float64\n",
      "INTERSECTION               362366 non-null object\n",
      "WEATHER_1                  362366 non-null object\n",
      "WEATHER_2                  362366 non-null object\n",
      "LOCATION_TYPE              127925 non-null object\n",
      "RAMP_INTERSECTION          127925 non-null object\n",
      "COLLISION_SEVERITY         362366 non-null float64\n",
      "NUMBER_KILLED              362282 non-null float64\n",
      "NUMBER_INJURED             362275 non-null float64\n",
      "PARTY_COUNT                362366 non-null float64\n",
      "PRIMARY_COLL_FACTOR        362366 non-null object\n",
      "PCF_CODE_OF_VIOL           362366 non-null object\n",
      "PCF_VIOL_CATEGORY          362366 non-null object\n",
      "PCF_VIOLATION              340381 non-null object\n",
      "PCF_VIOL_SUBSECTION        153277 non-null object\n",
      "TYPE_OF_COLLISION          362366 non-null object\n",
      "MVIW                       362366 non-null object\n",
      "PED_ACTION                 362366 non-null object\n",
      "ROAD_SURFACE               362366 non-null object\n",
      "ROAD_COND_1                362366 non-null object\n",
      "ROAD_COND_2                362366 non-null object\n",
      "LIGHTING                   362366 non-null object\n",
      "PEDESTRIAN_ACCIDENT        3821 non-null object\n",
      "BICYCLE_ACCIDENT           2251 non-null object\n",
      "MOTORCYCLE_ACCIDENT        362366 non-null object\n",
      "TRUCK_ACCIDENT             7749 non-null object\n",
      "NOT_PRIVATE_PROPERTY       362366 non-null object\n",
      "ALCOHOL_INVOLVED           28418 non-null object\n",
      "STWD_VEHTYPE_AT_FAULT      362366 non-null object\n",
      "CHP_VEHTYPE_AT_FAULT       320990 non-null object\n",
      "COUNT_SEVERE_INJ           362366 non-null float64\n",
      "COUNT_VISIBLE_INJ          362366 non-null float64\n",
      "COUNT_COMPLAINT_PAIN       362366 non-null float64\n",
      "COUNT_PED_KILLED           362366 non-null float64\n",
      "COUNT_PED_INJURED          362366 non-null float64\n",
      "COUNT_BICYCLIST_KILLED     362366 non-null float64\n",
      "COUNT_BICYCLIST_INJURED    362366 non-null float64\n",
      "COUNT_MC_KILLED            362366 non-null float64\n",
      "COUNT_MC_INJURED           362366 non-null float64\n",
      "dtypes: float64(18), int64(4), object(41)\n",
      "memory usage: 176.9+ MB\n"
     ]
    }
   ],
   "source": [
    "cycle_acc1.info()"
   ]
  },
  {
   "cell_type": "code",
   "execution_count": 62,
   "metadata": {
    "collapsed": false
   },
   "outputs": [
    {
     "name": "stderr",
     "output_type": "stream",
     "text": [
      "/Users/hritter/anaconda/lib/python3.6/site-packages/ipykernel/__main__.py:1: SettingWithCopyWarning: \n",
      "A value is trying to be set on a copy of a slice from a DataFrame\n",
      "\n",
      "See the caveats in the documentation: http://pandas.pydata.org/pandas-docs/stable/indexing.html#indexing-view-versus-copy\n",
      "  if __name__ == '__main__':\n"
     ]
    }
   ],
   "source": [
    "cycle_acc1.drop('CASE_ID_y', axis=1, inplace=True)"
   ]
  },
  {
   "cell_type": "code",
   "execution_count": 59,
   "metadata": {
    "collapsed": true
   },
   "outputs": [],
   "source": [
    "cycle_acc1.to_pickle(\"cycle_acc1.pkl\")"
   ]
  },
  {
   "cell_type": "code",
   "execution_count": 2,
   "metadata": {
    "collapsed": false
   },
   "outputs": [],
   "source": [
    "cycle_acc1 = pd.read_pickle(\"cycle_acc1.pkl\")"
   ]
  },
  {
   "cell_type": "markdown",
   "metadata": {},
   "source": [
    "### Creating Dataframe: Only Motorcycle Drivers"
   ]
  },
  {
   "cell_type": "code",
   "execution_count": 76,
   "metadata": {
    "collapsed": true
   },
   "outputs": [],
   "source": [
    "#the above df is motorcycles involved - this one is motorcycles driven. Since we're filtering on drivers, it's not going to\n",
    "#double-count incidents (presumably each vehicle has only one driver) (unless two motorcycles are in a crash)"
   ]
  },
  {
   "cell_type": "code",
   "execution_count": 3,
   "metadata": {
    "collapsed": false
   },
   "outputs": [],
   "source": [
    "cycle_acc1['PARTY_TYPE'] = cycle_acc1['PARTY_TYPE'].astype(str)"
   ]
  },
  {
   "cell_type": "code",
   "execution_count": 4,
   "metadata": {
    "collapsed": false
   },
   "outputs": [],
   "source": [
    "cycle_acc1['STWD_VEHICLE_TYPE'] = cycle_acc1['STWD_VEHICLE_TYPE'].astype(str)"
   ]
  },
  {
   "cell_type": "code",
   "execution_count": 5,
   "metadata": {
    "collapsed": false
   },
   "outputs": [
    {
     "data": {
      "text/plain": [
       "C    205754\n",
       "A    118880\n",
       "D     19487\n",
       "-      7158\n",
       "G      1707\n",
       "N      1657\n",
       "F      1622\n",
       "O      1571\n",
       "L      1054\n",
       "J       897\n",
       "E       881\n",
       "I       710\n",
       "M       484\n",
       "B       322\n",
       "H       155\n",
       "K        27\n",
       "Name: STWD_VEHICLE_TYPE, dtype: int64"
      ]
     },
     "execution_count": 5,
     "metadata": {},
     "output_type": "execute_result"
    }
   ],
   "source": [
    "cycle_acc1.STWD_VEHICLE_TYPE.value_counts()"
   ]
  },
  {
   "cell_type": "code",
   "execution_count": 22,
   "metadata": {
    "collapsed": false
   },
   "outputs": [],
   "source": [
    "cycle_driv = cycle_acc1[(cycle_acc1['PARTY_TYPE'] == '1') & (cycle_acc1['STWD_VEHICLE_TYPE'] == 'C')]"
   ]
  },
  {
   "cell_type": "code",
   "execution_count": 7,
   "metadata": {
    "collapsed": false
   },
   "outputs": [
    {
     "name": "stdout",
     "output_type": "stream",
     "text": [
      "<class 'pandas.core.frame.DataFrame'>\n",
      "Int64Index: 200833 entries, 3462 to 14424928\n",
      "Data columns (total 63 columns):\n",
      "CASE_ID_x                  200833 non-null object\n",
      "PARTY_NUMBER               200833 non-null int64\n",
      "PARTY_TYPE                 200833 non-null object\n",
      "AT_FAULT                   200833 non-null object\n",
      "PARTY_SEX                  200833 non-null object\n",
      "PARTY_AGE                  200833 non-null int64\n",
      "PARTY_SOBRIETY             200833 non-null object\n",
      "PARTY_DRUG_PHYSICAL        200571 non-null object\n",
      "PARTY_SAFETY_EQUIP_1       200833 non-null object\n",
      "PARTY_SAFETY_EQUIP_2       200833 non-null object\n",
      "SP_INFO_2                  200833 non-null object\n",
      "OAF_VIOL_CAT               200833 non-null object\n",
      "OAF_1                      200833 non-null object\n",
      "OAF_2                      200833 non-null object\n",
      "PARTY_NUMBER_KILLED        200833 non-null int64\n",
      "PARTY_NUMBER_INJURED       200833 non-null int64\n",
      "MOVE_PRE_ACC               200833 non-null object\n",
      "VEHICLE_YEAR               193739 non-null float64\n",
      "STWD_VEHICLE_TYPE          200833 non-null object\n",
      "INATTENTION                3673 non-null object\n",
      "CASE_ID_y                  200833 non-null object\n",
      "ACCIDENT_YEAR              200833 non-null float64\n",
      "COLLISION_DATE             200833 non-null float64\n",
      "COLLISION_TIME             200833 non-null float64\n",
      "DAY_OF_WEEK                200833 non-null float64\n",
      "INTERSECTION               200833 non-null object\n",
      "WEATHER_1                  200833 non-null object\n",
      "WEATHER_2                  200833 non-null object\n",
      "LOCATION_TYPE              73321 non-null object\n",
      "RAMP_INTERSECTION          73321 non-null object\n",
      "COLLISION_SEVERITY         200833 non-null float64\n",
      "NUMBER_KILLED              200783 non-null float64\n",
      "NUMBER_INJURED             200781 non-null float64\n",
      "PARTY_COUNT                200833 non-null float64\n",
      "PRIMARY_COLL_FACTOR        200833 non-null object\n",
      "PCF_CODE_OF_VIOL           200833 non-null object\n",
      "PCF_VIOL_CATEGORY          200833 non-null object\n",
      "PCF_VIOLATION              187109 non-null object\n",
      "PCF_VIOL_SUBSECTION        76048 non-null object\n",
      "TYPE_OF_COLLISION          200833 non-null object\n",
      "MVIW                       200833 non-null object\n",
      "PED_ACTION                 200833 non-null object\n",
      "ROAD_SURFACE               200833 non-null object\n",
      "ROAD_COND_1                200833 non-null object\n",
      "ROAD_COND_2                200833 non-null object\n",
      "LIGHTING                   200833 non-null object\n",
      "PEDESTRIAN_ACCIDENT        1484 non-null object\n",
      "BICYCLE_ACCIDENT           1003 non-null object\n",
      "MOTORCYCLE_ACCIDENT        200833 non-null object\n",
      "TRUCK_ACCIDENT             3181 non-null object\n",
      "NOT_PRIVATE_PROPERTY       200833 non-null object\n",
      "ALCOHOL_INVOLVED           16816 non-null object\n",
      "STWD_VEHTYPE_AT_FAULT      200833 non-null object\n",
      "CHP_VEHTYPE_AT_FAULT       180263 non-null object\n",
      "COUNT_SEVERE_INJ           200833 non-null float64\n",
      "COUNT_VISIBLE_INJ          200833 non-null float64\n",
      "COUNT_COMPLAINT_PAIN       200833 non-null float64\n",
      "COUNT_PED_KILLED           200833 non-null float64\n",
      "COUNT_PED_INJURED          200833 non-null float64\n",
      "COUNT_BICYCLIST_KILLED     200833 non-null float64\n",
      "COUNT_BICYCLIST_INJURED    200833 non-null float64\n",
      "COUNT_MC_KILLED            200833 non-null float64\n",
      "COUNT_MC_INJURED           200833 non-null float64\n",
      "dtypes: float64(18), int64(4), object(41)\n",
      "memory usage: 98.1+ MB\n"
     ]
    }
   ],
   "source": [
    "cycle_driv.info()"
   ]
  },
  {
   "cell_type": "markdown",
   "metadata": {},
   "source": [
    "### Dummy coding variables:"
   ]
  },
  {
   "cell_type": "code",
   "execution_count": 23,
   "metadata": {
    "collapsed": false,
    "scrolled": true
   },
   "outputs": [
    {
     "data": {
      "text/plain": [
       "Y    112924\n",
       "N     87909\n",
       "Name: AT_FAULT, dtype: int64"
      ]
     },
     "execution_count": 23,
     "metadata": {},
     "output_type": "execute_result"
    }
   ],
   "source": [
    "cycle_driv.AT_FAULT.value_counts()"
   ]
  },
  {
   "cell_type": "code",
   "execution_count": 24,
   "metadata": {
    "collapsed": false
   },
   "outputs": [
    {
     "name": "stderr",
     "output_type": "stream",
     "text": [
      "/Users/hritter/anaconda/lib/python3.6/site-packages/pandas/core/generic.py:3554: SettingWithCopyWarning: \n",
      "A value is trying to be set on a copy of a slice from a DataFrame\n",
      "\n",
      "See the caveats in the documentation: http://pandas.pydata.org/pandas-docs/stable/indexing.html#indexing-view-versus-copy\n",
      "  self._update_inplace(new_data)\n"
     ]
    }
   ],
   "source": [
    "cycle_driv.loc[:,'AT_FAULT'].replace(to_replace=\"Y\", value=1, inplace=True)\n",
    "cycle_driv.AT_FAULT.replace(to_replace=\"N\", value=0, inplace=True)"
   ]
  },
  {
   "cell_type": "code",
   "execution_count": 25,
   "metadata": {
    "collapsed": false
   },
   "outputs": [
    {
     "name": "stderr",
     "output_type": "stream",
     "text": [
      "/Users/hritter/anaconda/lib/python3.6/site-packages/pandas/core/generic.py:3554: SettingWithCopyWarning: \n",
      "A value is trying to be set on a copy of a slice from a DataFrame\n",
      "\n",
      "See the caveats in the documentation: http://pandas.pydata.org/pandas-docs/stable/indexing.html#indexing-view-versus-copy\n",
      "  self._update_inplace(new_data)\n"
     ]
    }
   ],
   "source": [
    "for S in ['PEDESTRIAN_ACCIDENT', 'BICYCLE_ACCIDENT', 'MOTORCYCLE_ACCIDENT', 'TRUCK_ACCIDENT']:\n",
    "    cycle_driv.loc[:,S].replace(to_replace=\"Y\", value=1, inplace=True)\n",
    "    cycle_driv.loc[:,S].replace(to_replace=\"N\", value=0, inplace=True)"
   ]
  },
  {
   "cell_type": "code",
   "execution_count": 27,
   "metadata": {
    "collapsed": false
   },
   "outputs": [
    {
     "data": {
      "text/plain": [
       "Y    16816\n",
       "Name: ALCOHOL_INVOLVED, dtype: int64"
      ]
     },
     "execution_count": 27,
     "metadata": {},
     "output_type": "execute_result"
    }
   ],
   "source": [
    "cycle_driv.ALCOHOL_INVOLVED.value_counts()"
   ]
  },
  {
   "cell_type": "code",
   "execution_count": 40,
   "metadata": {
    "collapsed": false,
    "scrolled": false
   },
   "outputs": [
    {
     "name": "stdout",
     "output_type": "stream",
     "text": [
      "<class 'pandas.core.frame.DataFrame'>\n",
      "Int64Index: 6803 entries, 6113 to 14424920\n",
      "Data columns (total 31 columns):\n",
      "CASE_ID_x               6803 non-null object\n",
      "PARTY_NUMBER            6803 non-null int64\n",
      "AT_FAULT                6803 non-null int64\n",
      "PARTY_SEX               6803 non-null object\n",
      "PARTY_AGE               6803 non-null int64\n",
      "PARTY_SOBRIETY          6803 non-null object\n",
      "PARTY_DRUG_PHYSICAL     6802 non-null object\n",
      "PARTY_SAFETY_EQUIP_1    6803 non-null object\n",
      "PARTY_SAFETY_EQUIP_2    6803 non-null object\n",
      "SP_INFO_2               6803 non-null object\n",
      "OAF_VIOL_CAT            6803 non-null object\n",
      "ACCIDENT_YEAR           6803 non-null float64\n",
      "COLLISION_DATE          6803 non-null float64\n",
      "COLLISION_TIME          6803 non-null float64\n",
      "DAY_OF_WEEK             6803 non-null float64\n",
      "WEATHER_1               6803 non-null object\n",
      "NUMBER_KILLED           6803 non-null float64\n",
      "NUMBER_INJURED          6782 non-null float64\n",
      "PARTY_COUNT             6803 non-null float64\n",
      "PRIMARY_COLL_FACTOR     6803 non-null object\n",
      "MVIW                    6803 non-null object\n",
      "ROAD_SURFACE            6803 non-null object\n",
      "ROAD_COND_1             6803 non-null object\n",
      "LIGHTING                6803 non-null object\n",
      "PEDESTRIAN_ACCIDENT     90 non-null float64\n",
      "BICYCLE_ACCIDENT        19 non-null float64\n",
      "MOTORCYCLE_ACCIDENT     6803 non-null int64\n",
      "TRUCK_ACCIDENT          447 non-null float64\n",
      "ALCOHOL_INVOLVED        2092 non-null object\n",
      "COUNT_MC_KILLED         6803 non-null float64\n",
      "COUNT_MC_INJURED        6803 non-null float64\n",
      "dtypes: float64(12), int64(4), object(15)\n",
      "memory usage: 1.7+ MB\n"
     ]
    }
   ],
   "source": [
    "fatalities = cycle_driv.loc[(cycle_driv.NUMBER_KILLED > 0)]\n",
    "fatalities.info()"
   ]
  },
  {
   "cell_type": "code",
   "execution_count": 38,
   "metadata": {
    "collapsed": false
   },
   "outputs": [
    {
     "data": {
      "text/plain": [
       "Y    2092\n",
       "Name: ALCOHOL_INVOLVED, dtype: int64"
      ]
     },
     "execution_count": 38,
     "metadata": {},
     "output_type": "execute_result"
    }
   ],
   "source": [
    "fatalities.ALCOHOL_INVOLVED.value_counts()"
   ]
  },
  {
   "cell_type": "code",
   "execution_count": 39,
   "metadata": {
    "collapsed": false
   },
   "outputs": [
    {
     "data": {
      "text/plain": [
       "A    3532\n",
       "B    1375\n",
       "G    1116\n",
       "-     326\n",
       "D     248\n",
       "C     202\n",
       "H       4\n",
       "Name: PARTY_SOBRIETY, dtype: int64"
      ]
     },
     "execution_count": 39,
     "metadata": {},
     "output_type": "execute_result"
    }
   ],
   "source": [
    "fatalities.PARTY_SOBRIETY.value_counts()"
   ]
  },
  {
   "cell_type": "code",
   "execution_count": 84,
   "metadata": {
    "collapsed": false
   },
   "outputs": [
    {
     "data": {
      "text/plain": [
       "M    181843\n",
       "F     15465\n",
       "-      3525\n",
       "Name: PARTY_SEX, dtype: int64"
      ]
     },
     "execution_count": 84,
     "metadata": {},
     "output_type": "execute_result"
    }
   ],
   "source": [
    "cycle_driv.PARTY_SEX.value_counts()"
   ]
  },
  {
   "cell_type": "code",
   "execution_count": 26,
   "metadata": {
    "collapsed": false
   },
   "outputs": [],
   "source": [
    "cols = ['PARTY_SEX', 'PARTY_SOBRIETY', 'PARTY_DRUG_PHYSICAL', 'PARTY_SAFETY_EQUIP_1', 'PARTY_SAFETY_EQUIP_2',\n",
    "        'SP_INFO_2', 'OAF_VIOL_CAT', 'WEATHER_1',\n",
    "        'PRIMARY_COLL_FACTOR', 'MVIW', 'ROAD_SURFACE', 'ROAD_COND_1', 'LIGHTING', 'ALCOHOL_INVOLVED'] \n",
    "#these columns are going to be dummy-coded"
   ]
  },
  {
   "cell_type": "code",
   "execution_count": 98,
   "metadata": {
    "collapsed": false
   },
   "outputs": [
    {
     "data": {
      "text/plain": [
       "-    198750\n",
       "C       966\n",
       "G       517\n",
       "B       334\n",
       "F       158\n",
       "E        95\n",
       "D        13\n",
       "Name: WEATHER_2, dtype: int64"
      ]
     },
     "execution_count": 98,
     "metadata": {},
     "output_type": "execute_result"
    }
   ],
   "source": [
    "cycle_driv.WEATHER_2.value_counts()"
   ]
  },
  {
   "cell_type": "code",
   "execution_count": 56,
   "metadata": {
    "collapsed": false
   },
   "outputs": [
    {
     "data": {
      "text/plain": [
       "3    151263\n",
       "-     26635\n",
       "D     13069\n",
       "C      7939\n",
       "2      1484\n",
       "1       234\n",
       "B       209\n",
       "Name: SP_INFO_2, dtype: int64"
      ]
     },
     "execution_count": 56,
     "metadata": {},
     "output_type": "execute_result"
    }
   ],
   "source": [
    "cycle_driv.SP_INFO_2.value_counts() #this is.... less than useful"
   ]
  },
  {
   "cell_type": "code",
   "execution_count": 28,
   "metadata": {
    "collapsed": false
   },
   "outputs": [
    {
     "data": {
      "text/plain": [
       "H    190583\n",
       "D      3150\n",
       "B      1885\n",
       "G      1523\n",
       "-      1492\n",
       "A      1172\n",
       "C       802\n",
       "E       178\n",
       "F        48\n",
       "Name: ROAD_COND_1, dtype: int64"
      ]
     },
     "execution_count": 28,
     "metadata": {},
     "output_type": "execute_result"
    }
   ],
   "source": [
    "cycle_driv.ROAD_COND_1.value_counts()"
   ]
  },
  {
   "cell_type": "code",
   "execution_count": 29,
   "metadata": {
    "collapsed": false
   },
   "outputs": [
    {
     "data": {
      "text/plain": [
       "-    199756\n",
       "H       548\n",
       "E       193\n",
       "D       147\n",
       "G        89\n",
       "B        75\n",
       "C        22\n",
       "F         3\n",
       "Name: ROAD_COND_2, dtype: int64"
      ]
     },
     "execution_count": 29,
     "metadata": {},
     "output_type": "execute_result"
    }
   ],
   "source": [
    "cycle_driv.ROAD_COND_2.value_counts()"
   ]
  },
  {
   "cell_type": "code",
   "execution_count": 90,
   "metadata": {
    "collapsed": false
   },
   "outputs": [
    {
     "data": {
      "text/plain": [
       "P    120503\n",
       "W     28210\n",
       "-     22776\n",
       "M     13375\n",
       "A      5084\n",
       "N      3314\n",
       "G      2378\n",
       "V      2000\n",
       "L      1443\n",
       "B      1111\n",
       "Y       189\n",
       "C       110\n",
       "D        94\n",
       "U        60\n",
       "F        55\n",
       "H        43\n",
       "E        30\n",
       "Q        18\n",
       "X        18\n",
       "T         7\n",
       "J         6\n",
       "R         5\n",
       "S         2\n",
       "K         2\n",
       "Name: PARTY_SAFETY_EQUIP_1, dtype: int64"
      ]
     },
     "execution_count": 90,
     "metadata": {},
     "output_type": "execute_result"
    }
   ],
   "source": [
    "cycle_driv.PARTY_SAFETY_EQUIP_1.value_counts()"
   ]
  },
  {
   "cell_type": "code",
   "execution_count": 16,
   "metadata": {
    "collapsed": false
   },
   "outputs": [
    {
     "data": {
      "text/plain": [
       "W    130108\n",
       "-     46900\n",
       "G     10330\n",
       "V      5236\n",
       "A      3936\n",
       "P      1376\n",
       "B      1244\n",
       "Y       434\n",
       "C       239\n",
       "N       217\n",
       "M       195\n",
       "H       154\n",
       "E       105\n",
       "D        65\n",
       "U        64\n",
       "Q        61\n",
       "X        58\n",
       "L        46\n",
       "F        20\n",
       "J        15\n",
       "K        13\n",
       "S         8\n",
       "T         5\n",
       "R         4\n",
       "Name: PARTY_SAFETY_EQUIP_2, dtype: int64"
      ]
     },
     "execution_count": 16,
     "metadata": {},
     "output_type": "execute_result"
    }
   ],
   "source": [
    "cycle_driv.PARTY_SAFETY_EQUIP_2.value_counts()"
   ]
  },
  {
   "cell_type": "code",
   "execution_count": 36,
   "metadata": {
    "collapsed": false
   },
   "outputs": [
    {
     "data": {
      "text/html": [
       "<div>\n",
       "<table border=\"1\" class=\"dataframe\">\n",
       "  <thead>\n",
       "    <tr style=\"text-align: right;\">\n",
       "      <th></th>\n",
       "      <th>CASE_ID_x</th>\n",
       "      <th>PARTY_NUMBER</th>\n",
       "      <th>PARTY_TYPE</th>\n",
       "      <th>AT_FAULT</th>\n",
       "      <th>PARTY_SEX</th>\n",
       "      <th>PARTY_AGE</th>\n",
       "      <th>PARTY_SOBRIETY</th>\n",
       "      <th>PARTY_DRUG_PHYSICAL</th>\n",
       "      <th>PARTY_SAFETY_EQUIP_1</th>\n",
       "      <th>PARTY_SAFETY_EQUIP_2</th>\n",
       "      <th>...</th>\n",
       "      <th>CHP_VEHTYPE_AT_FAULT</th>\n",
       "      <th>COUNT_SEVERE_INJ</th>\n",
       "      <th>COUNT_VISIBLE_INJ</th>\n",
       "      <th>COUNT_COMPLAINT_PAIN</th>\n",
       "      <th>COUNT_PED_KILLED</th>\n",
       "      <th>COUNT_PED_INJURED</th>\n",
       "      <th>COUNT_BICYCLIST_KILLED</th>\n",
       "      <th>COUNT_BICYCLIST_INJURED</th>\n",
       "      <th>COUNT_MC_KILLED</th>\n",
       "      <th>COUNT_MC_INJURED</th>\n",
       "    </tr>\n",
       "  </thead>\n",
       "  <tbody>\n",
       "    <tr>\n",
       "      <th>152786</th>\n",
       "      <td>84657</td>\n",
       "      <td>1</td>\n",
       "      <td>1</td>\n",
       "      <td>1</td>\n",
       "      <td>M</td>\n",
       "      <td>44</td>\n",
       "      <td>A</td>\n",
       "      <td>-</td>\n",
       "      <td>W</td>\n",
       "      <td>W</td>\n",
       "      <td>...</td>\n",
       "      <td>02</td>\n",
       "      <td>0.0</td>\n",
       "      <td>1.0</td>\n",
       "      <td>0.0</td>\n",
       "      <td>0.0</td>\n",
       "      <td>0.0</td>\n",
       "      <td>0.0</td>\n",
       "      <td>0.0</td>\n",
       "      <td>0.0</td>\n",
       "      <td>1.0</td>\n",
       "    </tr>\n",
       "    <tr>\n",
       "      <th>226329</th>\n",
       "      <td>111898</td>\n",
       "      <td>1</td>\n",
       "      <td>1</td>\n",
       "      <td>1</td>\n",
       "      <td>M</td>\n",
       "      <td>27</td>\n",
       "      <td>A</td>\n",
       "      <td>-</td>\n",
       "      <td>W</td>\n",
       "      <td>W</td>\n",
       "      <td>...</td>\n",
       "      <td>NaN</td>\n",
       "      <td>0.0</td>\n",
       "      <td>0.0</td>\n",
       "      <td>1.0</td>\n",
       "      <td>0.0</td>\n",
       "      <td>0.0</td>\n",
       "      <td>0.0</td>\n",
       "      <td>0.0</td>\n",
       "      <td>0.0</td>\n",
       "      <td>1.0</td>\n",
       "    </tr>\n",
       "    <tr>\n",
       "      <th>507265</th>\n",
       "      <td>271638</td>\n",
       "      <td>2</td>\n",
       "      <td>1</td>\n",
       "      <td>0</td>\n",
       "      <td>M</td>\n",
       "      <td>53</td>\n",
       "      <td>A</td>\n",
       "      <td>-</td>\n",
       "      <td>W</td>\n",
       "      <td>W</td>\n",
       "      <td>...</td>\n",
       "      <td>NaN</td>\n",
       "      <td>0.0</td>\n",
       "      <td>1.0</td>\n",
       "      <td>0.0</td>\n",
       "      <td>0.0</td>\n",
       "      <td>0.0</td>\n",
       "      <td>0.0</td>\n",
       "      <td>0.0</td>\n",
       "      <td>0.0</td>\n",
       "      <td>1.0</td>\n",
       "    </tr>\n",
       "    <tr>\n",
       "      <th>1135767</th>\n",
       "      <td>626370</td>\n",
       "      <td>2</td>\n",
       "      <td>1</td>\n",
       "      <td>0</td>\n",
       "      <td>M</td>\n",
       "      <td>51</td>\n",
       "      <td>A</td>\n",
       "      <td>-</td>\n",
       "      <td>W</td>\n",
       "      <td>W</td>\n",
       "      <td>...</td>\n",
       "      <td>NaN</td>\n",
       "      <td>0.0</td>\n",
       "      <td>0.0</td>\n",
       "      <td>0.0</td>\n",
       "      <td>0.0</td>\n",
       "      <td>0.0</td>\n",
       "      <td>0.0</td>\n",
       "      <td>0.0</td>\n",
       "      <td>0.0</td>\n",
       "      <td>0.0</td>\n",
       "    </tr>\n",
       "    <tr>\n",
       "      <th>1165438</th>\n",
       "      <td>643760</td>\n",
       "      <td>2</td>\n",
       "      <td>1</td>\n",
       "      <td>0</td>\n",
       "      <td>M</td>\n",
       "      <td>27</td>\n",
       "      <td>A</td>\n",
       "      <td>-</td>\n",
       "      <td>W</td>\n",
       "      <td>W</td>\n",
       "      <td>...</td>\n",
       "      <td>NaN</td>\n",
       "      <td>0.0</td>\n",
       "      <td>0.0</td>\n",
       "      <td>1.0</td>\n",
       "      <td>0.0</td>\n",
       "      <td>0.0</td>\n",
       "      <td>0.0</td>\n",
       "      <td>0.0</td>\n",
       "      <td>0.0</td>\n",
       "      <td>1.0</td>\n",
       "    </tr>\n",
       "    <tr>\n",
       "      <th>1277039</th>\n",
       "      <td>704625</td>\n",
       "      <td>1</td>\n",
       "      <td>1</td>\n",
       "      <td>0</td>\n",
       "      <td>F</td>\n",
       "      <td>40</td>\n",
       "      <td>A</td>\n",
       "      <td>-</td>\n",
       "      <td>W</td>\n",
       "      <td>W</td>\n",
       "      <td>...</td>\n",
       "      <td>-</td>\n",
       "      <td>1.0</td>\n",
       "      <td>1.0</td>\n",
       "      <td>0.0</td>\n",
       "      <td>0.0</td>\n",
       "      <td>0.0</td>\n",
       "      <td>0.0</td>\n",
       "      <td>0.0</td>\n",
       "      <td>0.0</td>\n",
       "      <td>2.0</td>\n",
       "    </tr>\n",
       "    <tr>\n",
       "      <th>1483368</th>\n",
       "      <td>818997</td>\n",
       "      <td>1</td>\n",
       "      <td>1</td>\n",
       "      <td>1</td>\n",
       "      <td>F</td>\n",
       "      <td>32</td>\n",
       "      <td>A</td>\n",
       "      <td>-</td>\n",
       "      <td>W</td>\n",
       "      <td>W</td>\n",
       "      <td>...</td>\n",
       "      <td>NaN</td>\n",
       "      <td>1.0</td>\n",
       "      <td>0.0</td>\n",
       "      <td>0.0</td>\n",
       "      <td>0.0</td>\n",
       "      <td>0.0</td>\n",
       "      <td>0.0</td>\n",
       "      <td>0.0</td>\n",
       "      <td>0.0</td>\n",
       "      <td>1.0</td>\n",
       "    </tr>\n",
       "    <tr>\n",
       "      <th>1899242</th>\n",
       "      <td>1050943</td>\n",
       "      <td>1</td>\n",
       "      <td>1</td>\n",
       "      <td>1</td>\n",
       "      <td>M</td>\n",
       "      <td>26</td>\n",
       "      <td>A</td>\n",
       "      <td>-</td>\n",
       "      <td>W</td>\n",
       "      <td>W</td>\n",
       "      <td>...</td>\n",
       "      <td>02</td>\n",
       "      <td>0.0</td>\n",
       "      <td>1.0</td>\n",
       "      <td>0.0</td>\n",
       "      <td>0.0</td>\n",
       "      <td>0.0</td>\n",
       "      <td>0.0</td>\n",
       "      <td>0.0</td>\n",
       "      <td>0.0</td>\n",
       "      <td>1.0</td>\n",
       "    </tr>\n",
       "  </tbody>\n",
       "</table>\n",
       "<p>8 rows × 63 columns</p>\n",
       "</div>"
      ],
      "text/plain": [
       "        CASE_ID_x  PARTY_NUMBER PARTY_TYPE  AT_FAULT PARTY_SEX  PARTY_AGE  \\\n",
       "152786      84657             1          1         1         M         44   \n",
       "226329     111898             1          1         1         M         27   \n",
       "507265     271638             2          1         0         M         53   \n",
       "1135767    626370             2          1         0         M         51   \n",
       "1165438    643760             2          1         0         M         27   \n",
       "1277039    704625             1          1         0         F         40   \n",
       "1483368    818997             1          1         1         F         32   \n",
       "1899242   1050943             1          1         1         M         26   \n",
       "\n",
       "        PARTY_SOBRIETY PARTY_DRUG_PHYSICAL PARTY_SAFETY_EQUIP_1  \\\n",
       "152786               A                   -                    W   \n",
       "226329               A                   -                    W   \n",
       "507265               A                   -                    W   \n",
       "1135767              A                   -                    W   \n",
       "1165438              A                   -                    W   \n",
       "1277039              A                   -                    W   \n",
       "1483368              A                   -                    W   \n",
       "1899242              A                   -                    W   \n",
       "\n",
       "        PARTY_SAFETY_EQUIP_2       ...        CHP_VEHTYPE_AT_FAULT  \\\n",
       "152786                     W       ...                          02   \n",
       "226329                     W       ...                         NaN   \n",
       "507265                     W       ...                         NaN   \n",
       "1135767                    W       ...                         NaN   \n",
       "1165438                    W       ...                         NaN   \n",
       "1277039                    W       ...                          -    \n",
       "1483368                    W       ...                         NaN   \n",
       "1899242                    W       ...                          02   \n",
       "\n",
       "        COUNT_SEVERE_INJ COUNT_VISIBLE_INJ COUNT_COMPLAINT_PAIN  \\\n",
       "152786               0.0               1.0                  0.0   \n",
       "226329               0.0               0.0                  1.0   \n",
       "507265               0.0               1.0                  0.0   \n",
       "1135767              0.0               0.0                  0.0   \n",
       "1165438              0.0               0.0                  1.0   \n",
       "1277039              1.0               1.0                  0.0   \n",
       "1483368              1.0               0.0                  0.0   \n",
       "1899242              0.0               1.0                  0.0   \n",
       "\n",
       "         COUNT_PED_KILLED  COUNT_PED_INJURED COUNT_BICYCLIST_KILLED  \\\n",
       "152786                0.0                0.0                    0.0   \n",
       "226329                0.0                0.0                    0.0   \n",
       "507265                0.0                0.0                    0.0   \n",
       "1135767               0.0                0.0                    0.0   \n",
       "1165438               0.0                0.0                    0.0   \n",
       "1277039               0.0                0.0                    0.0   \n",
       "1483368               0.0                0.0                    0.0   \n",
       "1899242               0.0                0.0                    0.0   \n",
       "\n",
       "         COUNT_BICYCLIST_INJURED COUNT_MC_KILLED COUNT_MC_INJURED  \n",
       "152786                       0.0             0.0              1.0  \n",
       "226329                       0.0             0.0              1.0  \n",
       "507265                       0.0             0.0              1.0  \n",
       "1135767                      0.0             0.0              0.0  \n",
       "1165438                      0.0             0.0              1.0  \n",
       "1277039                      0.0             0.0              2.0  \n",
       "1483368                      0.0             0.0              1.0  \n",
       "1899242                      0.0             0.0              1.0  \n",
       "\n",
       "[8 rows x 63 columns]"
      ]
     },
     "execution_count": 36,
     "metadata": {},
     "output_type": "execute_result"
    }
   ],
   "source": [
    "cycle_driv.loc[(cycle_driv[\"PARTY_SAFETY_EQUIP_1\"]=='W') & (cycle_driv[\"PARTY_SAFETY_EQUIP_2\"] == 'W')]\n",
    "#these might just be data entry errors. It looks like the safety equipment section should be multiple sections"
   ]
  },
  {
   "cell_type": "code",
   "execution_count": 27,
   "metadata": {
    "collapsed": true
   },
   "outputs": [],
   "source": [
    "dropcols = ['OAF_1', 'OAF_2', 'PARTY_NUMBER_KILLED', 'PARTY_TYPE', 'STWD_VEHICLE_TYPE',\n",
    "            'PARTY_NUMBER_INJURED', 'MOVE_PRE_ACC', 'VEHICLE_YEAR', \n",
    "            'INATTENTION', 'WEATHER_2', 'LOCATION_TYPE', \n",
    "            'RAMP_INTERSECTION', 'INTERSECTION', 'CASE_ID_y', 'COLLISION_SEVERITY',  'PCF_CODE_OF_VIOL', 'PCF_VIOL_CATEGORY', 'PCF_VIOLATION',\n",
    "            'PCF_VIOL_SUBSECTION', 'TYPE_OF_COLLISION', 'PED_ACTION', 'ROAD_COND_2', 'NOT_PRIVATE_PROPERTY', 'STWD_VEHTYPE_AT_FAULT',\n",
    "            'CHP_VEHTYPE_AT_FAULT', 'COUNT_SEVERE_INJ', 'COUNT_VISIBLE_INJ', 'COUNT_COMPLAINT_PAIN',\n",
    "            'COUNT_PED_KILLED', 'COUNT_PED_INJURED', 'COUNT_BICYCLIST_KILLED', 'COUNT_BICYCLIST_INJURED']\n",
    "#these columns are either redundant or do not include any useful information, and will be dropped"
   ]
  },
  {
   "cell_type": "code",
   "execution_count": 28,
   "metadata": {
    "collapsed": false
   },
   "outputs": [
    {
     "name": "stderr",
     "output_type": "stream",
     "text": [
      "/Users/hritter/anaconda/lib/python3.6/site-packages/ipykernel/__main__.py:1: SettingWithCopyWarning: \n",
      "A value is trying to be set on a copy of a slice from a DataFrame\n",
      "\n",
      "See the caveats in the documentation: http://pandas.pydata.org/pandas-docs/stable/indexing.html#indexing-view-versus-copy\n",
      "  if __name__ == '__main__':\n"
     ]
    }
   ],
   "source": [
    "cycle_driv.drop(dropcols, axis=1, inplace=True)"
   ]
  },
  {
   "cell_type": "code",
   "execution_count": 29,
   "metadata": {
    "collapsed": false
   },
   "outputs": [],
   "source": [
    "dums = pd.get_dummies(cycle_driv[cols])"
   ]
  },
  {
   "cell_type": "code",
   "execution_count": 30,
   "metadata": {
    "collapsed": true
   },
   "outputs": [],
   "source": [
    "c_driv_d = pd.concat([cycle_driv, dums], axis=1).drop(cols, axis=1)"
   ]
  },
  {
   "cell_type": "code",
   "execution_count": 31,
   "metadata": {
    "collapsed": false
   },
   "outputs": [
    {
     "data": {
      "text/html": [
       "<div>\n",
       "<table border=\"1\" class=\"dataframe\">\n",
       "  <thead>\n",
       "    <tr style=\"text-align: right;\">\n",
       "      <th></th>\n",
       "      <th>CASE_ID_x</th>\n",
       "      <th>PARTY_NUMBER</th>\n",
       "      <th>AT_FAULT</th>\n",
       "      <th>PARTY_AGE</th>\n",
       "      <th>ACCIDENT_YEAR</th>\n",
       "      <th>COLLISION_DATE</th>\n",
       "      <th>COLLISION_TIME</th>\n",
       "      <th>DAY_OF_WEEK</th>\n",
       "      <th>NUMBER_KILLED</th>\n",
       "      <th>NUMBER_INJURED</th>\n",
       "      <th>...</th>\n",
       "      <th>ROAD_COND_1_F</th>\n",
       "      <th>ROAD_COND_1_G</th>\n",
       "      <th>ROAD_COND_1_H</th>\n",
       "      <th>LIGHTING_-</th>\n",
       "      <th>LIGHTING_A</th>\n",
       "      <th>LIGHTING_B</th>\n",
       "      <th>LIGHTING_C</th>\n",
       "      <th>LIGHTING_D</th>\n",
       "      <th>LIGHTING_E</th>\n",
       "      <th>ALCOHOL_INVOLVED_Y</th>\n",
       "    </tr>\n",
       "  </thead>\n",
       "  <tbody>\n",
       "    <tr>\n",
       "      <th>3462</th>\n",
       "      <td>1930</td>\n",
       "      <td>1</td>\n",
       "      <td>1</td>\n",
       "      <td>41</td>\n",
       "      <td>2002.0</td>\n",
       "      <td>20020121.0</td>\n",
       "      <td>1620.0</td>\n",
       "      <td>1.0</td>\n",
       "      <td>0.0</td>\n",
       "      <td>1.0</td>\n",
       "      <td>...</td>\n",
       "      <td>0</td>\n",
       "      <td>0</td>\n",
       "      <td>1</td>\n",
       "      <td>0</td>\n",
       "      <td>1</td>\n",
       "      <td>0</td>\n",
       "      <td>0</td>\n",
       "      <td>0</td>\n",
       "      <td>0</td>\n",
       "      <td>0</td>\n",
       "    </tr>\n",
       "    <tr>\n",
       "      <th>3538</th>\n",
       "      <td>1979</td>\n",
       "      <td>2</td>\n",
       "      <td>0</td>\n",
       "      <td>44</td>\n",
       "      <td>2002.0</td>\n",
       "      <td>20020212.0</td>\n",
       "      <td>1244.0</td>\n",
       "      <td>2.0</td>\n",
       "      <td>0.0</td>\n",
       "      <td>1.0</td>\n",
       "      <td>...</td>\n",
       "      <td>0</td>\n",
       "      <td>0</td>\n",
       "      <td>1</td>\n",
       "      <td>0</td>\n",
       "      <td>1</td>\n",
       "      <td>0</td>\n",
       "      <td>0</td>\n",
       "      <td>0</td>\n",
       "      <td>0</td>\n",
       "      <td>0</td>\n",
       "    </tr>\n",
       "    <tr>\n",
       "      <th>3971</th>\n",
       "      <td>2216</td>\n",
       "      <td>2</td>\n",
       "      <td>0</td>\n",
       "      <td>32</td>\n",
       "      <td>2002.0</td>\n",
       "      <td>20020212.0</td>\n",
       "      <td>1636.0</td>\n",
       "      <td>2.0</td>\n",
       "      <td>0.0</td>\n",
       "      <td>1.0</td>\n",
       "      <td>...</td>\n",
       "      <td>0</td>\n",
       "      <td>0</td>\n",
       "      <td>1</td>\n",
       "      <td>0</td>\n",
       "      <td>1</td>\n",
       "      <td>0</td>\n",
       "      <td>0</td>\n",
       "      <td>0</td>\n",
       "      <td>0</td>\n",
       "      <td>0</td>\n",
       "    </tr>\n",
       "    <tr>\n",
       "      <th>4010</th>\n",
       "      <td>2235</td>\n",
       "      <td>2</td>\n",
       "      <td>0</td>\n",
       "      <td>24</td>\n",
       "      <td>2002.0</td>\n",
       "      <td>20020213.0</td>\n",
       "      <td>1812.0</td>\n",
       "      <td>3.0</td>\n",
       "      <td>0.0</td>\n",
       "      <td>1.0</td>\n",
       "      <td>...</td>\n",
       "      <td>0</td>\n",
       "      <td>0</td>\n",
       "      <td>1</td>\n",
       "      <td>0</td>\n",
       "      <td>0</td>\n",
       "      <td>1</td>\n",
       "      <td>0</td>\n",
       "      <td>0</td>\n",
       "      <td>0</td>\n",
       "      <td>0</td>\n",
       "    </tr>\n",
       "    <tr>\n",
       "      <th>4136</th>\n",
       "      <td>2297</td>\n",
       "      <td>1</td>\n",
       "      <td>1</td>\n",
       "      <td>42</td>\n",
       "      <td>2002.0</td>\n",
       "      <td>20020201.0</td>\n",
       "      <td>1520.0</td>\n",
       "      <td>5.0</td>\n",
       "      <td>0.0</td>\n",
       "      <td>1.0</td>\n",
       "      <td>...</td>\n",
       "      <td>0</td>\n",
       "      <td>0</td>\n",
       "      <td>1</td>\n",
       "      <td>0</td>\n",
       "      <td>1</td>\n",
       "      <td>0</td>\n",
       "      <td>0</td>\n",
       "      <td>0</td>\n",
       "      <td>0</td>\n",
       "      <td>0</td>\n",
       "    </tr>\n",
       "    <tr>\n",
       "      <th>4271</th>\n",
       "      <td>2368</td>\n",
       "      <td>2</td>\n",
       "      <td>0</td>\n",
       "      <td>21</td>\n",
       "      <td>2002.0</td>\n",
       "      <td>20020213.0</td>\n",
       "      <td>1909.0</td>\n",
       "      <td>3.0</td>\n",
       "      <td>0.0</td>\n",
       "      <td>1.0</td>\n",
       "      <td>...</td>\n",
       "      <td>0</td>\n",
       "      <td>0</td>\n",
       "      <td>1</td>\n",
       "      <td>0</td>\n",
       "      <td>0</td>\n",
       "      <td>0</td>\n",
       "      <td>1</td>\n",
       "      <td>0</td>\n",
       "      <td>0</td>\n",
       "      <td>0</td>\n",
       "    </tr>\n",
       "    <tr>\n",
       "      <th>4582</th>\n",
       "      <td>2547</td>\n",
       "      <td>1</td>\n",
       "      <td>1</td>\n",
       "      <td>21</td>\n",
       "      <td>2002.0</td>\n",
       "      <td>20020211.0</td>\n",
       "      <td>2250.0</td>\n",
       "      <td>1.0</td>\n",
       "      <td>0.0</td>\n",
       "      <td>1.0</td>\n",
       "      <td>...</td>\n",
       "      <td>0</td>\n",
       "      <td>0</td>\n",
       "      <td>1</td>\n",
       "      <td>0</td>\n",
       "      <td>0</td>\n",
       "      <td>0</td>\n",
       "      <td>1</td>\n",
       "      <td>0</td>\n",
       "      <td>0</td>\n",
       "      <td>0</td>\n",
       "    </tr>\n",
       "    <tr>\n",
       "      <th>4897</th>\n",
       "      <td>2723</td>\n",
       "      <td>1</td>\n",
       "      <td>1</td>\n",
       "      <td>36</td>\n",
       "      <td>2002.0</td>\n",
       "      <td>20020125.0</td>\n",
       "      <td>839.0</td>\n",
       "      <td>5.0</td>\n",
       "      <td>0.0</td>\n",
       "      <td>0.0</td>\n",
       "      <td>...</td>\n",
       "      <td>0</td>\n",
       "      <td>0</td>\n",
       "      <td>1</td>\n",
       "      <td>0</td>\n",
       "      <td>1</td>\n",
       "      <td>0</td>\n",
       "      <td>0</td>\n",
       "      <td>0</td>\n",
       "      <td>0</td>\n",
       "      <td>0</td>\n",
       "    </tr>\n",
       "    <tr>\n",
       "      <th>5209</th>\n",
       "      <td>2895</td>\n",
       "      <td>1</td>\n",
       "      <td>0</td>\n",
       "      <td>52</td>\n",
       "      <td>2002.0</td>\n",
       "      <td>20020105.0</td>\n",
       "      <td>1205.0</td>\n",
       "      <td>6.0</td>\n",
       "      <td>0.0</td>\n",
       "      <td>1.0</td>\n",
       "      <td>...</td>\n",
       "      <td>0</td>\n",
       "      <td>0</td>\n",
       "      <td>1</td>\n",
       "      <td>0</td>\n",
       "      <td>1</td>\n",
       "      <td>0</td>\n",
       "      <td>0</td>\n",
       "      <td>0</td>\n",
       "      <td>0</td>\n",
       "      <td>0</td>\n",
       "    </tr>\n",
       "    <tr>\n",
       "      <th>5556</th>\n",
       "      <td>3088</td>\n",
       "      <td>1</td>\n",
       "      <td>1</td>\n",
       "      <td>39</td>\n",
       "      <td>2002.0</td>\n",
       "      <td>20020223.0</td>\n",
       "      <td>1618.0</td>\n",
       "      <td>6.0</td>\n",
       "      <td>0.0</td>\n",
       "      <td>1.0</td>\n",
       "      <td>...</td>\n",
       "      <td>0</td>\n",
       "      <td>0</td>\n",
       "      <td>1</td>\n",
       "      <td>0</td>\n",
       "      <td>1</td>\n",
       "      <td>0</td>\n",
       "      <td>0</td>\n",
       "      <td>0</td>\n",
       "      <td>0</td>\n",
       "      <td>0</td>\n",
       "    </tr>\n",
       "    <tr>\n",
       "      <th>5588</th>\n",
       "      <td>3105</td>\n",
       "      <td>1</td>\n",
       "      <td>1</td>\n",
       "      <td>39</td>\n",
       "      <td>2002.0</td>\n",
       "      <td>20020217.0</td>\n",
       "      <td>1248.0</td>\n",
       "      <td>7.0</td>\n",
       "      <td>0.0</td>\n",
       "      <td>0.0</td>\n",
       "      <td>...</td>\n",
       "      <td>0</td>\n",
       "      <td>1</td>\n",
       "      <td>0</td>\n",
       "      <td>0</td>\n",
       "      <td>1</td>\n",
       "      <td>0</td>\n",
       "      <td>0</td>\n",
       "      <td>0</td>\n",
       "      <td>0</td>\n",
       "      <td>0</td>\n",
       "    </tr>\n",
       "    <tr>\n",
       "      <th>5697</th>\n",
       "      <td>3157</td>\n",
       "      <td>2</td>\n",
       "      <td>0</td>\n",
       "      <td>51</td>\n",
       "      <td>2002.0</td>\n",
       "      <td>20020101.0</td>\n",
       "      <td>1525.0</td>\n",
       "      <td>2.0</td>\n",
       "      <td>0.0</td>\n",
       "      <td>1.0</td>\n",
       "      <td>...</td>\n",
       "      <td>0</td>\n",
       "      <td>0</td>\n",
       "      <td>1</td>\n",
       "      <td>0</td>\n",
       "      <td>1</td>\n",
       "      <td>0</td>\n",
       "      <td>0</td>\n",
       "      <td>0</td>\n",
       "      <td>0</td>\n",
       "      <td>1</td>\n",
       "    </tr>\n",
       "    <tr>\n",
       "      <th>6113</th>\n",
       "      <td>3392</td>\n",
       "      <td>1</td>\n",
       "      <td>1</td>\n",
       "      <td>34</td>\n",
       "      <td>2002.0</td>\n",
       "      <td>20020112.0</td>\n",
       "      <td>1250.0</td>\n",
       "      <td>6.0</td>\n",
       "      <td>1.0</td>\n",
       "      <td>NaN</td>\n",
       "      <td>...</td>\n",
       "      <td>0</td>\n",
       "      <td>0</td>\n",
       "      <td>1</td>\n",
       "      <td>0</td>\n",
       "      <td>1</td>\n",
       "      <td>0</td>\n",
       "      <td>0</td>\n",
       "      <td>0</td>\n",
       "      <td>0</td>\n",
       "      <td>0</td>\n",
       "    </tr>\n",
       "    <tr>\n",
       "      <th>6528</th>\n",
       "      <td>3638</td>\n",
       "      <td>2</td>\n",
       "      <td>0</td>\n",
       "      <td>41</td>\n",
       "      <td>2002.0</td>\n",
       "      <td>20020211.0</td>\n",
       "      <td>1955.0</td>\n",
       "      <td>1.0</td>\n",
       "      <td>0.0</td>\n",
       "      <td>1.0</td>\n",
       "      <td>...</td>\n",
       "      <td>0</td>\n",
       "      <td>0</td>\n",
       "      <td>1</td>\n",
       "      <td>0</td>\n",
       "      <td>0</td>\n",
       "      <td>0</td>\n",
       "      <td>1</td>\n",
       "      <td>0</td>\n",
       "      <td>0</td>\n",
       "      <td>0</td>\n",
       "    </tr>\n",
       "    <tr>\n",
       "      <th>6605</th>\n",
       "      <td>3681</td>\n",
       "      <td>2</td>\n",
       "      <td>0</td>\n",
       "      <td>22</td>\n",
       "      <td>2002.0</td>\n",
       "      <td>20020131.0</td>\n",
       "      <td>1405.0</td>\n",
       "      <td>4.0</td>\n",
       "      <td>0.0</td>\n",
       "      <td>1.0</td>\n",
       "      <td>...</td>\n",
       "      <td>0</td>\n",
       "      <td>0</td>\n",
       "      <td>1</td>\n",
       "      <td>0</td>\n",
       "      <td>1</td>\n",
       "      <td>0</td>\n",
       "      <td>0</td>\n",
       "      <td>0</td>\n",
       "      <td>0</td>\n",
       "      <td>0</td>\n",
       "    </tr>\n",
       "  </tbody>\n",
       "</table>\n",
       "<p>15 rows × 162 columns</p>\n",
       "</div>"
      ],
      "text/plain": [
       "     CASE_ID_x  PARTY_NUMBER  AT_FAULT  PARTY_AGE  ACCIDENT_YEAR  \\\n",
       "3462      1930             1         1         41         2002.0   \n",
       "3538      1979             2         0         44         2002.0   \n",
       "3971      2216             2         0         32         2002.0   \n",
       "4010      2235             2         0         24         2002.0   \n",
       "4136      2297             1         1         42         2002.0   \n",
       "4271      2368             2         0         21         2002.0   \n",
       "4582      2547             1         1         21         2002.0   \n",
       "4897      2723             1         1         36         2002.0   \n",
       "5209      2895             1         0         52         2002.0   \n",
       "5556      3088             1         1         39         2002.0   \n",
       "5588      3105             1         1         39         2002.0   \n",
       "5697      3157             2         0         51         2002.0   \n",
       "6113      3392             1         1         34         2002.0   \n",
       "6528      3638             2         0         41         2002.0   \n",
       "6605      3681             2         0         22         2002.0   \n",
       "\n",
       "      COLLISION_DATE  COLLISION_TIME  DAY_OF_WEEK  NUMBER_KILLED  \\\n",
       "3462      20020121.0          1620.0          1.0            0.0   \n",
       "3538      20020212.0          1244.0          2.0            0.0   \n",
       "3971      20020212.0          1636.0          2.0            0.0   \n",
       "4010      20020213.0          1812.0          3.0            0.0   \n",
       "4136      20020201.0          1520.0          5.0            0.0   \n",
       "4271      20020213.0          1909.0          3.0            0.0   \n",
       "4582      20020211.0          2250.0          1.0            0.0   \n",
       "4897      20020125.0           839.0          5.0            0.0   \n",
       "5209      20020105.0          1205.0          6.0            0.0   \n",
       "5556      20020223.0          1618.0          6.0            0.0   \n",
       "5588      20020217.0          1248.0          7.0            0.0   \n",
       "5697      20020101.0          1525.0          2.0            0.0   \n",
       "6113      20020112.0          1250.0          6.0            1.0   \n",
       "6528      20020211.0          1955.0          1.0            0.0   \n",
       "6605      20020131.0          1405.0          4.0            0.0   \n",
       "\n",
       "      NUMBER_INJURED         ...          ROAD_COND_1_F  ROAD_COND_1_G  \\\n",
       "3462             1.0         ...                      0              0   \n",
       "3538             1.0         ...                      0              0   \n",
       "3971             1.0         ...                      0              0   \n",
       "4010             1.0         ...                      0              0   \n",
       "4136             1.0         ...                      0              0   \n",
       "4271             1.0         ...                      0              0   \n",
       "4582             1.0         ...                      0              0   \n",
       "4897             0.0         ...                      0              0   \n",
       "5209             1.0         ...                      0              0   \n",
       "5556             1.0         ...                      0              0   \n",
       "5588             0.0         ...                      0              1   \n",
       "5697             1.0         ...                      0              0   \n",
       "6113             NaN         ...                      0              0   \n",
       "6528             1.0         ...                      0              0   \n",
       "6605             1.0         ...                      0              0   \n",
       "\n",
       "      ROAD_COND_1_H  LIGHTING_-  LIGHTING_A  LIGHTING_B  LIGHTING_C  \\\n",
       "3462              1           0           1           0           0   \n",
       "3538              1           0           1           0           0   \n",
       "3971              1           0           1           0           0   \n",
       "4010              1           0           0           1           0   \n",
       "4136              1           0           1           0           0   \n",
       "4271              1           0           0           0           1   \n",
       "4582              1           0           0           0           1   \n",
       "4897              1           0           1           0           0   \n",
       "5209              1           0           1           0           0   \n",
       "5556              1           0           1           0           0   \n",
       "5588              0           0           1           0           0   \n",
       "5697              1           0           1           0           0   \n",
       "6113              1           0           1           0           0   \n",
       "6528              1           0           0           0           1   \n",
       "6605              1           0           1           0           0   \n",
       "\n",
       "      LIGHTING_D  LIGHTING_E  ALCOHOL_INVOLVED_Y  \n",
       "3462           0           0                   0  \n",
       "3538           0           0                   0  \n",
       "3971           0           0                   0  \n",
       "4010           0           0                   0  \n",
       "4136           0           0                   0  \n",
       "4271           0           0                   0  \n",
       "4582           0           0                   0  \n",
       "4897           0           0                   0  \n",
       "5209           0           0                   0  \n",
       "5556           0           0                   0  \n",
       "5588           0           0                   0  \n",
       "5697           0           0                   1  \n",
       "6113           0           0                   0  \n",
       "6528           0           0                   0  \n",
       "6605           0           0                   0  \n",
       "\n",
       "[15 rows x 162 columns]"
      ]
     },
     "execution_count": 31,
     "metadata": {},
     "output_type": "execute_result"
    }
   ],
   "source": [
    "c_driv_d.head(15)"
   ]
  },
  {
   "cell_type": "markdown",
   "metadata": {},
   "source": [
    "### looking at top initial correlations:"
   ]
  },
  {
   "cell_type": "code",
   "execution_count": 42,
   "metadata": {
    "collapsed": false
   },
   "outputs": [],
   "source": [
    "corrs = c_driv_d.corr().round(2)"
   ]
  },
  {
   "cell_type": "code",
   "execution_count": 44,
   "metadata": {
    "collapsed": false
   },
   "outputs": [],
   "source": [
    "n = corrs[['NUMBER_KILLED', 'NUMBER_INJURED']]"
   ]
  },
  {
   "cell_type": "code",
   "execution_count": 45,
   "metadata": {
    "collapsed": false
   },
   "outputs": [
    {
     "data": {
      "text/plain": [
       "NUMBER_INJURED  NUMBER_INJURED            1.00\n",
       "NUMBER_KILLED   NUMBER_KILLED             1.00\n",
       "                COUNT_MC_KILLED           0.98\n",
       "NUMBER_INJURED  COUNT_MC_INJURED          0.82\n",
       "NUMBER_KILLED   PARTY_DRUG_PHYSICAL_E     0.36\n",
       "                COUNT_MC_INJURED          0.23\n",
       "NUMBER_INJURED  PARTY_AGE                 0.21\n",
       "NUMBER_KILLED   PARTY_DRUG_PHYSICAL_-     0.20\n",
       "                PARTY_SOBRIETY_A          0.18\n",
       "NUMBER_INJURED  PARTY_SEX_-               0.16\n",
       "                PARTY_DRUG_PHYSICAL_-     0.16\n",
       "                COUNT_MC_KILLED           0.16\n",
       "                NUMBER_KILLED             0.15\n",
       "                PARTY_SOBRIETY_G          0.15\n",
       "                PARTY_DRUG_PHYSICAL_G     0.15\n",
       "NUMBER_KILLED   ALCOHOL_INVOLVED_Y        0.15\n",
       "                NUMBER_INJURED            0.15\n",
       "                PARTY_SOBRIETY_B          0.13\n",
       "NUMBER_INJURED  PARTY_NUMBER              0.12\n",
       "                PARTY_SOBRIETY_A          0.12\n",
       "NUMBER_KILLED   OAF_VIOL_CAT_-            0.11\n",
       "NUMBER_INJURED  PARTY_COUNT               0.11\n",
       "NUMBER_KILLED   PARTY_DRUG_PHYSICAL_G     0.09\n",
       "                PARTY_SOBRIETY_G          0.09\n",
       "                OAF_VIOL_CAT_25           0.08\n",
       "NUMBER_INJURED  PARTY_SAFETY_EQUIP_2_W    0.08\n",
       "                PARTY_SAFETY_EQUIP_1_P    0.07\n",
       "NUMBER_KILLED   MVIW_I                    0.07\n",
       "NUMBER_INJURED  PARTY_SAFETY_EQUIP_1_B    0.07\n",
       "                PARTY_SAFETY_EQUIP_1_-    0.07\n",
       "                                          ... \n",
       "NUMBER_KILLED   OAF_VIOL_CAT_21           0.00\n",
       "NUMBER_INJURED  OAF_VIOL_CAT_28           0.00\n",
       "NUMBER_KILLED   OAF_VIOL_CAT_19           0.00\n",
       "                OAF_VIOL_CAT_00           0.00\n",
       "                SP_INFO_2_B               0.00\n",
       "                WEATHER_1_B               0.00\n",
       "NUMBER_INJURED  OAF_VIOL_CAT_33           0.00\n",
       "NUMBER_KILLED   SP_INFO_2_2               0.00\n",
       "NUMBER_INJURED  OAF_VIOL_CAT_35           0.00\n",
       "NUMBER_KILLED   PARTY_SAFETY_EQUIP_2_Y    0.00\n",
       "                PARTY_SAFETY_EQUIP_2_X    0.00\n",
       "NUMBER_INJURED  OAF_VIOL_CAT_38           0.00\n",
       "                OAF_VIOL_CAT_21           0.00\n",
       "NUMBER_KILLED   OAF_VIOL_CAT_30           0.00\n",
       "NUMBER_INJURED  SP_INFO_2_C               0.00\n",
       "NUMBER_KILLED   OAF_VIOL_CAT_34           0.00\n",
       "                OAF_VIOL_CAT_35           0.00\n",
       "                OAF_VIOL_CAT_38           0.00\n",
       "NUMBER_INJURED  SP_INFO_2_B               0.00\n",
       "NUMBER_KILLED   OAF_VIOL_CAT_40           0.00\n",
       "NUMBER_INJURED  SP_INFO_2_2               0.00\n",
       "                SP_INFO_2_1               0.00\n",
       "NUMBER_KILLED   OAF_VIOL_CAT_46           0.00\n",
       "NUMBER_INJURED  PARTY_SAFETY_EQUIP_2_Y    0.00\n",
       "NUMBER_KILLED   OAF_VIOL_CAT_51           0.00\n",
       "                OAF_VIOL_CAT_53           0.00\n",
       "NUMBER_INJURED  PARTY_SAFETY_EQUIP_2_X    0.00\n",
       "NUMBER_KILLED   WEATHER_1_-               0.00\n",
       "                WEATHER_1_A               0.00\n",
       "NUMBER_INJURED  ALCOHOL_INVOLVED_Y        0.00\n",
       "dtype: float64"
      ]
     },
     "execution_count": 45,
     "metadata": {},
     "output_type": "execute_result"
    }
   ],
   "source": [
    "s=n.unstack()\n",
    "so = abs(s).sort_values(kind='quicksort', ascending=False)\n",
    "so"
   ]
  },
  {
   "cell_type": "code",
   "execution_count": 53,
   "metadata": {
    "collapsed": false
   },
   "outputs": [],
   "source": [
    "p = corrs[['PARTY_SAFETY_EQUIP_1_V', 'PARTY_SAFETY_EQUIP_2_V']]"
   ]
  },
  {
   "cell_type": "code",
   "execution_count": 54,
   "metadata": {
    "collapsed": false
   },
   "outputs": [
    {
     "data": {
      "text/plain": [
       "PARTY_SAFETY_EQUIP_1_V  PARTY_SAFETY_EQUIP_1_V    1.00\n",
       "PARTY_SAFETY_EQUIP_2_V  PARTY_SAFETY_EQUIP_2_V    1.00\n",
       "                        PARTY_SAFETY_EQUIP_2_W    0.22\n",
       "PARTY_SAFETY_EQUIP_1_V  PARTY_SAFETY_EQUIP_2_-    0.18\n",
       "                        SP_INFO_2_3               0.15\n",
       "                        PARTY_SAFETY_EQUIP_2_W    0.14\n",
       "                        ACCIDENT_YEAR             0.12\n",
       "                        COLLISION_DATE            0.12\n",
       "                        SP_INFO_2_D               0.12\n",
       "                        PARTY_SAFETY_EQUIP_1_P    0.12\n",
       "PARTY_SAFETY_EQUIP_2_V  PARTY_SOBRIETY_B          0.10\n",
       "                        PARTY_SAFETY_EQUIP_2_-    0.09\n",
       "                        PARTY_SOBRIETY_A          0.09\n",
       "                        ALCOHOL_INVOLVED_Y        0.09\n",
       "                        PARTY_SAFETY_EQUIP_1_P    0.08\n",
       "                        OAF_VIOL_CAT_-            0.08\n",
       "                        PARTY_SAFETY_EQUIP_1_W    0.07\n",
       "                        AT_FAULT                  0.07\n",
       "PARTY_SAFETY_EQUIP_1_V  SP_INFO_2_-               0.07\n",
       "PARTY_SAFETY_EQUIP_2_V  PARTY_NUMBER              0.06\n",
       "PARTY_SAFETY_EQUIP_1_V  SP_INFO_2_C               0.06\n",
       "PARTY_SAFETY_EQUIP_2_V  SP_INFO_2_3               0.06\n",
       "                        MVIW_E                    0.06\n",
       "                        OAF_VIOL_CAT_31           0.06\n",
       "PARTY_SAFETY_EQUIP_1_V  MVIW_E                    0.06\n",
       "PARTY_SAFETY_EQUIP_2_V  MVIW_C                    0.05\n",
       "PARTY_SAFETY_EQUIP_1_V  OAF_VIOL_CAT_-            0.04\n",
       "PARTY_SAFETY_EQUIP_2_V  COUNT_MC_KILLED           0.04\n",
       "                        PARTY_COUNT               0.04\n",
       "                        OAF_VIOL_CAT_44           0.04\n",
       "                                                  ... \n",
       "PARTY_SAFETY_EQUIP_1_V  WEATHER_1_-               0.00\n",
       "                        OAF_VIOL_CAT_53           0.00\n",
       "                        OAF_VIOL_CAT_51           0.00\n",
       "                        OAF_VIOL_CAT_46           0.00\n",
       "                        OAF_VIOL_CAT_38           0.00\n",
       "                        ROAD_SURFACE_D            0.00\n",
       "                        ROAD_COND_1_-             0.00\n",
       "                        ROAD_COND_1_A             0.00\n",
       "PARTY_SAFETY_EQUIP_2_V  ROAD_SURFACE_A            0.00\n",
       "                        PARTY_SAFETY_EQUIP_1_C    0.00\n",
       "                        PARTY_DRUG_PHYSICAL_I     0.00\n",
       "                        PARTY_DRUG_PHYSICAL_H     0.00\n",
       "                        PARTY_DRUG_PHYSICAL_F     0.00\n",
       "                        PARTY_SOBRIETY_H          0.00\n",
       "                        MVIW_G                    0.00\n",
       "                        MVIW_H                    0.00\n",
       "                        PARTY_SEX_F               0.00\n",
       "                        ROAD_SURFACE_-            0.00\n",
       "                        ROAD_SURFACE_B            0.00\n",
       "PARTY_SAFETY_EQUIP_1_V  ROAD_COND_1_B             0.00\n",
       "                        LIGHTING_E                0.00\n",
       "                        LIGHTING_D                0.00\n",
       "                        LIGHTING_B                0.00\n",
       "                        LIGHTING_-                0.00\n",
       "                        ROAD_COND_1_H             0.00\n",
       "                        ROAD_COND_1_F             0.00\n",
       "                        ROAD_COND_1_E             0.00\n",
       "                        ROAD_COND_1_D             0.00\n",
       "                        ROAD_COND_1_C             0.00\n",
       "                        ROAD_SURFACE_A            0.00\n",
       "dtype: float64"
      ]
     },
     "execution_count": 54,
     "metadata": {},
     "output_type": "execute_result"
    }
   ],
   "source": [
    "q=p.unstack()\n",
    "qo = abs(q).sort_values(kind='quicksort', ascending=False)\n",
    "qo\n",
    "#a lot of these are inverses of each other or otherwise obvious - will have to do a more in-depth analysis later"
   ]
  },
  {
   "cell_type": "code",
   "execution_count": 32,
   "metadata": {
    "collapsed": false
   },
   "outputs": [],
   "source": [
    "cycle_atfault = c_driv_d[(c_driv_d['AT_FAULT'] == 1)]"
   ]
  },
  {
   "cell_type": "code",
   "execution_count": 61,
   "metadata": {
    "collapsed": false
   },
   "outputs": [
    {
     "name": "stdout",
     "output_type": "stream",
     "text": [
      "<class 'pandas.core.frame.DataFrame'>\n",
      "Int64Index: 112924 entries, 3462 to 14424928\n",
      "Columns: 166 entries, CASE_ID_x to ALCOHOL_INVOLVED_Y\n",
      "dtypes: float64(9), int64(3), object(9), uint8(145)\n",
      "memory usage: 34.6+ MB\n"
     ]
    }
   ],
   "source": [
    "cycle_atfault.info()"
   ]
  },
  {
   "cell_type": "code",
   "execution_count": 67,
   "metadata": {
    "collapsed": true
   },
   "outputs": [],
   "source": [
    "fault_corrs = cycle_atfault.corr().round(2)"
   ]
  },
  {
   "cell_type": "code",
   "execution_count": 68,
   "metadata": {
    "collapsed": true
   },
   "outputs": [],
   "source": [
    "f = fault_corrs[['NUMBER_KILLED', 'NUMBER_INJURED']]"
   ]
  },
  {
   "cell_type": "code",
   "execution_count": 70,
   "metadata": {
    "collapsed": false
   },
   "outputs": [
    {
     "data": {
      "text/plain": [
       "NUMBER_KILLED   NUMBER_KILLED             1.00\n",
       "NUMBER_INJURED  NUMBER_INJURED            1.00\n",
       "NUMBER_KILLED   COUNT_MC_KILLED           0.99\n",
       "NUMBER_INJURED  COUNT_MC_INJURED          0.86\n",
       "NUMBER_KILLED   PARTY_DRUG_PHYSICAL_E     0.36\n",
       "                COUNT_MC_INJURED          0.30\n",
       "NUMBER_INJURED  PARTY_AGE                 0.28\n",
       "                COUNT_MC_KILLED           0.24\n",
       "NUMBER_KILLED   NUMBER_INJURED            0.23\n",
       "NUMBER_INJURED  PARTY_DRUG_PHYSICAL_-     0.23\n",
       "                NUMBER_KILLED             0.23\n",
       "                PARTY_SOBRIETY_G          0.22\n",
       "                PARTY_SEX_-               0.22\n",
       "                PARTY_DRUG_PHYSICAL_G     0.22\n",
       "NUMBER_KILLED   PARTY_DRUG_PHYSICAL_-     0.20\n",
       "                PARTY_SOBRIETY_A          0.18\n",
       "                ALCOHOL_INVOLVED_Y        0.16\n",
       "NUMBER_INJURED  PARTY_SOBRIETY_A          0.16\n",
       "NUMBER_KILLED   PARTY_SOBRIETY_B          0.14\n",
       "                OAF_VIOL_CAT_-            0.13\n",
       "NUMBER_INJURED  PARTY_SAFETY_EQUIP_2_W    0.10\n",
       "                PARTY_SAFETY_EQUIP_1_-    0.10\n",
       "                PARTY_SEX_M               0.10\n",
       "NUMBER_KILLED   OAF_VIOL_CAT_25           0.10\n",
       "NUMBER_INJURED  MVIW_A                    0.09\n",
       "                PARTY_SAFETY_EQUIP_1_B    0.09\n",
       "                PARTY_SAFETY_EQUIP_1_P    0.09\n",
       "                PARTY_SAFETY_EQUIP_2_B    0.09\n",
       "                PARTY_DRUG_PHYSICAL_E     0.08\n",
       "NUMBER_KILLED   MVIW_I                    0.08\n",
       "                                          ... \n",
       "                PARTY_SAFETY_EQUIP_2_X    0.00\n",
       "                PARTY_SAFETY_EQUIP_2_Y    0.00\n",
       "NUMBER_INJURED  OAF_VIOL_CAT_31           0.00\n",
       "                PARTY_SAFETY_EQUIP_1_S    0.00\n",
       "NUMBER_KILLED   SP_INFO_2_2               0.00\n",
       "NUMBER_INJURED  OAF_VIOL_CAT_29           0.00\n",
       "NUMBER_KILLED   SP_INFO_2_B               0.00\n",
       "                SP_INFO_2_C               0.00\n",
       "NUMBER_INJURED  OAF_VIOL_CAT_28           0.00\n",
       "                OAF_VIOL_CAT_26           0.00\n",
       "NUMBER_KILLED   OAF_VIOL_CAT_00           0.00\n",
       "                OAF_VIOL_CAT_20           0.00\n",
       "                OAF_VIOL_CAT_38           0.00\n",
       "                OAF_VIOL_CAT_21           0.00\n",
       "                OAF_VIOL_CAT_22           0.00\n",
       "NUMBER_INJURED  PARTY_SAFETY_EQUIP_1_T    0.00\n",
       "                OAF_VIOL_CAT_22           0.00\n",
       "                OAF_VIOL_CAT_21           0.00\n",
       "NUMBER_KILLED   ROAD_COND_1_G             0.00\n",
       "                ROAD_COND_1_F             0.00\n",
       "                ROAD_COND_1_E             0.00\n",
       "                ROAD_COND_1_D             0.00\n",
       "NUMBER_INJURED  SP_INFO_2_B               0.00\n",
       "                SP_INFO_2_2               0.00\n",
       "                SP_INFO_2_1               0.00\n",
       "NUMBER_KILLED   OAF_VIOL_CAT_34           0.00\n",
       "                OAF_VIOL_CAT_35           0.00\n",
       "NUMBER_INJURED  OAF_VIOL_CAT_24           0.00\n",
       "NUMBER_KILLED   AT_FAULT                   NaN\n",
       "NUMBER_INJURED  AT_FAULT                   NaN\n",
       "dtype: float64"
      ]
     },
     "execution_count": 70,
     "metadata": {},
     "output_type": "execute_result"
    }
   ],
   "source": [
    "g=f.unstack()\n",
    "go = abs(g).sort_values(kind='quicksort', ascending=False)\n",
    "go #interestingly, the results are pretty much identical to the not-necessarily-at-fault ones. "
   ]
  },
  {
   "cell_type": "code",
   "execution_count": 33,
   "metadata": {
    "collapsed": true
   },
   "outputs": [],
   "source": [
    "c_driv_d.to_pickle('c_driv_d.pkl') #all accidents including motorcycle drivers"
   ]
  },
  {
   "cell_type": "code",
   "execution_count": 34,
   "metadata": {
    "collapsed": true
   },
   "outputs": [],
   "source": [
    "cycle_atfault.to_pickle('cycle_atfault.pkl') #accidents where motorcycle drivers were at fault"
   ]
  },
  {
   "cell_type": "code",
   "execution_count": null,
   "metadata": {
    "collapsed": true
   },
   "outputs": [],
   "source": []
  }
 ],
 "metadata": {
  "kernelspec": {
   "display_name": "Python 3",
   "language": "python",
   "name": "python3"
  },
  "language_info": {
   "codemirror_mode": {
    "name": "ipython",
    "version": 3
   },
   "file_extension": ".py",
   "mimetype": "text/x-python",
   "name": "python",
   "nbconvert_exporter": "python",
   "pygments_lexer": "ipython3",
   "version": "3.6.0"
  }
 },
 "nbformat": 4,
 "nbformat_minor": 2
}
